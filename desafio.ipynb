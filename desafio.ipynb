{
 "cells": [
  {
   "cell_type": "code",
   "execution_count": 1,
   "metadata": {},
   "outputs": [],
   "source": [
    "import pandas as pd\n",
    "import numpy as np\n",
    "from matplotlib import pyplot as plt\n",
    "import json\n",
    "from matplotlib.ticker import ScalarFormatter, FormatStrFormatter"
   ]
  },
  {
   "cell_type": "code",
   "execution_count": 2,
   "metadata": {},
   "outputs": [],
   "source": [
    "%matplotlib inline"
   ]
  },
  {
   "cell_type": "markdown",
   "metadata": {},
   "source": [
    "Carregando dataframes"
   ]
  },
  {
   "cell_type": "code",
   "execution_count": 3,
   "metadata": {},
   "outputs": [],
   "source": [
    "offline_data = pd.read_json(\"offline_sales.json\", lines=True)"
   ]
  },
  {
   "cell_type": "code",
   "execution_count": 4,
   "metadata": {},
   "outputs": [
    {
     "data": {
      "text/html": [
       "<div>\n",
       "<style scoped>\n",
       "    .dataframe tbody tr th:only-of-type {\n",
       "        vertical-align: middle;\n",
       "    }\n",
       "\n",
       "    .dataframe tbody tr th {\n",
       "        vertical-align: top;\n",
       "    }\n",
       "\n",
       "    .dataframe thead th {\n",
       "        text-align: right;\n",
       "    }\n",
       "</style>\n",
       "<table border=\"1\" class=\"dataframe\">\n",
       "  <thead>\n",
       "    <tr style=\"text-align: right;\">\n",
       "      <th></th>\n",
       "      <th>date</th>\n",
       "      <th>state</th>\n",
       "      <th>store_id</th>\n",
       "      <th>sale_id</th>\n",
       "      <th>off_product_id</th>\n",
       "      <th>quantity</th>\n",
       "      <th>price</th>\n",
       "      <th>customer_id</th>\n",
       "    </tr>\n",
       "  </thead>\n",
       "  <tbody>\n",
       "    <tr>\n",
       "      <td>0</td>\n",
       "      <td>2018-08-01</td>\n",
       "      <td>RN</td>\n",
       "      <td>3162633</td>\n",
       "      <td>323932636465316</td>\n",
       "      <td>643839313230323</td>\n",
       "      <td>1</td>\n",
       "      <td>279.0</td>\n",
       "      <td>NaN</td>\n",
       "    </tr>\n",
       "    <tr>\n",
       "      <td>1</td>\n",
       "      <td>2018-08-01</td>\n",
       "      <td>RN</td>\n",
       "      <td>3162633</td>\n",
       "      <td>326463633336323</td>\n",
       "      <td>613665646663346</td>\n",
       "      <td>1</td>\n",
       "      <td>229.0</td>\n",
       "      <td>NaN</td>\n",
       "    </tr>\n",
       "    <tr>\n",
       "      <td>2</td>\n",
       "      <td>2018-08-01</td>\n",
       "      <td>RN</td>\n",
       "      <td>3162633</td>\n",
       "      <td>333331346330323</td>\n",
       "      <td>343739666265353</td>\n",
       "      <td>1</td>\n",
       "      <td>179.0</td>\n",
       "      <td>NaN</td>\n",
       "    </tr>\n",
       "    <tr>\n",
       "      <td>3</td>\n",
       "      <td>2018-08-01</td>\n",
       "      <td>RN</td>\n",
       "      <td>3162633</td>\n",
       "      <td>393461383633336</td>\n",
       "      <td>373034633762613</td>\n",
       "      <td>1</td>\n",
       "      <td>269.0</td>\n",
       "      <td>NaN</td>\n",
       "    </tr>\n",
       "    <tr>\n",
       "      <td>4</td>\n",
       "      <td>2018-08-01</td>\n",
       "      <td>RN</td>\n",
       "      <td>3162633</td>\n",
       "      <td>616531626536373</td>\n",
       "      <td>343634373062363</td>\n",
       "      <td>1</td>\n",
       "      <td>29.0</td>\n",
       "      <td>NaN</td>\n",
       "    </tr>\n",
       "    <tr>\n",
       "      <td>...</td>\n",
       "      <td>...</td>\n",
       "      <td>...</td>\n",
       "      <td>...</td>\n",
       "      <td>...</td>\n",
       "      <td>...</td>\n",
       "      <td>...</td>\n",
       "      <td>...</td>\n",
       "      <td>...</td>\n",
       "    </tr>\n",
       "    <tr>\n",
       "      <td>29367</td>\n",
       "      <td>2018-08-31</td>\n",
       "      <td>RS</td>\n",
       "      <td>6637353</td>\n",
       "      <td>633064386463376</td>\n",
       "      <td>346433376135623</td>\n",
       "      <td>1</td>\n",
       "      <td>129.0</td>\n",
       "      <td>6.439626e+19</td>\n",
       "    </tr>\n",
       "    <tr>\n",
       "      <td>29368</td>\n",
       "      <td>2018-08-31</td>\n",
       "      <td>RS</td>\n",
       "      <td>6637353</td>\n",
       "      <td>633064386463376</td>\n",
       "      <td>633239313036316</td>\n",
       "      <td>1</td>\n",
       "      <td>138.0</td>\n",
       "      <td>6.439626e+19</td>\n",
       "    </tr>\n",
       "    <tr>\n",
       "      <td>29369</td>\n",
       "      <td>2018-08-31</td>\n",
       "      <td>RS</td>\n",
       "      <td>6637353</td>\n",
       "      <td>393832393138626</td>\n",
       "      <td>333938616133373</td>\n",
       "      <td>1</td>\n",
       "      <td>149.0</td>\n",
       "      <td>6.632647e+19</td>\n",
       "    </tr>\n",
       "    <tr>\n",
       "      <td>29370</td>\n",
       "      <td>2018-08-31</td>\n",
       "      <td>RS</td>\n",
       "      <td>6637353</td>\n",
       "      <td>393832393138626</td>\n",
       "      <td>366337303963646</td>\n",
       "      <td>1</td>\n",
       "      <td>109.0</td>\n",
       "      <td>6.632647e+19</td>\n",
       "    </tr>\n",
       "    <tr>\n",
       "      <td>29371</td>\n",
       "      <td>2018-08-31</td>\n",
       "      <td>RS</td>\n",
       "      <td>6637353</td>\n",
       "      <td>393832393138626</td>\n",
       "      <td>393961643766636</td>\n",
       "      <td>1</td>\n",
       "      <td>134.5</td>\n",
       "      <td>6.632647e+19</td>\n",
       "    </tr>\n",
       "  </tbody>\n",
       "</table>\n",
       "<p>29372 rows × 8 columns</p>\n",
       "</div>"
      ],
      "text/plain": [
       "            date state  store_id          sale_id   off_product_id  quantity  \\\n",
       "0     2018-08-01    RN   3162633  323932636465316  643839313230323         1   \n",
       "1     2018-08-01    RN   3162633  326463633336323  613665646663346         1   \n",
       "2     2018-08-01    RN   3162633  333331346330323  343739666265353         1   \n",
       "3     2018-08-01    RN   3162633  393461383633336  373034633762613         1   \n",
       "4     2018-08-01    RN   3162633  616531626536373  343634373062363         1   \n",
       "...          ...   ...       ...              ...              ...       ...   \n",
       "29367 2018-08-31    RS   6637353  633064386463376  346433376135623         1   \n",
       "29368 2018-08-31    RS   6637353  633064386463376  633239313036316         1   \n",
       "29369 2018-08-31    RS   6637353  393832393138626  333938616133373         1   \n",
       "29370 2018-08-31    RS   6637353  393832393138626  366337303963646         1   \n",
       "29371 2018-08-31    RS   6637353  393832393138626  393961643766636         1   \n",
       "\n",
       "       price   customer_id  \n",
       "0      279.0           NaN  \n",
       "1      229.0           NaN  \n",
       "2      179.0           NaN  \n",
       "3      269.0           NaN  \n",
       "4       29.0           NaN  \n",
       "...      ...           ...  \n",
       "29367  129.0  6.439626e+19  \n",
       "29368  138.0  6.439626e+19  \n",
       "29369  149.0  6.632647e+19  \n",
       "29370  109.0  6.632647e+19  \n",
       "29371  134.5  6.632647e+19  \n",
       "\n",
       "[29372 rows x 8 columns]"
      ]
     },
     "execution_count": 4,
     "metadata": {},
     "output_type": "execute_result"
    }
   ],
   "source": [
    "offline_data"
   ]
  },
  {
   "cell_type": "code",
   "execution_count": 5,
   "metadata": {},
   "outputs": [],
   "source": [
    "onlineorders_data = pd.read_json(\"online_orders.json\", lines=True)"
   ]
  },
  {
   "cell_type": "code",
   "execution_count": 6,
   "metadata": {},
   "outputs": [
    {
     "data": {
      "text/html": [
       "<div>\n",
       "<style scoped>\n",
       "    .dataframe tbody tr th:only-of-type {\n",
       "        vertical-align: middle;\n",
       "    }\n",
       "\n",
       "    .dataframe tbody tr th {\n",
       "        vertical-align: top;\n",
       "    }\n",
       "\n",
       "    .dataframe thead th {\n",
       "        text-align: right;\n",
       "    }\n",
       "</style>\n",
       "<table border=\"1\" class=\"dataframe\">\n",
       "  <thead>\n",
       "    <tr style=\"text-align: right;\">\n",
       "      <th></th>\n",
       "      <th>date</th>\n",
       "      <th>visitor_id</th>\n",
       "      <th>deviceType</th>\n",
       "      <th>order_id</th>\n",
       "      <th>on_product_id</th>\n",
       "      <th>quantity</th>\n",
       "      <th>price</th>\n",
       "      <th>customer_id</th>\n",
       "    </tr>\n",
       "  </thead>\n",
       "  <tbody>\n",
       "    <tr>\n",
       "      <td>0</td>\n",
       "      <td>2018-08-01</td>\n",
       "      <td>3.663324e+24</td>\n",
       "      <td>desktop</td>\n",
       "      <td>363063373630306</td>\n",
       "      <td>323762666337343</td>\n",
       "      <td>1</td>\n",
       "      <td>839</td>\n",
       "      <td>NaN</td>\n",
       "    </tr>\n",
       "    <tr>\n",
       "      <td>1</td>\n",
       "      <td>2018-08-01</td>\n",
       "      <td>3.430317e+24</td>\n",
       "      <td>mobile</td>\n",
       "      <td>356664366366353</td>\n",
       "      <td>313562333039323</td>\n",
       "      <td>1</td>\n",
       "      <td>629</td>\n",
       "      <td>6.339334e+19</td>\n",
       "    </tr>\n",
       "    <tr>\n",
       "      <td>2</td>\n",
       "      <td>2018-08-01</td>\n",
       "      <td>3.261343e+24</td>\n",
       "      <td>desktop</td>\n",
       "      <td>313432656633333</td>\n",
       "      <td>383863346531623</td>\n",
       "      <td>1</td>\n",
       "      <td>219</td>\n",
       "      <td>3.765363e+19</td>\n",
       "    </tr>\n",
       "    <tr>\n",
       "      <td>3</td>\n",
       "      <td>2018-08-01</td>\n",
       "      <td>6.437387e+24</td>\n",
       "      <td>mobile</td>\n",
       "      <td>633236633438383</td>\n",
       "      <td>666136386663626</td>\n",
       "      <td>1</td>\n",
       "      <td>239</td>\n",
       "      <td>6.533383e+19</td>\n",
       "    </tr>\n",
       "    <tr>\n",
       "      <td>4</td>\n",
       "      <td>2018-08-01</td>\n",
       "      <td>6.264657e+24</td>\n",
       "      <td>desktop</td>\n",
       "      <td>623030326130383</td>\n",
       "      <td>626533383465323</td>\n",
       "      <td>1</td>\n",
       "      <td>69</td>\n",
       "      <td>NaN</td>\n",
       "    </tr>\n",
       "    <tr>\n",
       "      <td>...</td>\n",
       "      <td>...</td>\n",
       "      <td>...</td>\n",
       "      <td>...</td>\n",
       "      <td>...</td>\n",
       "      <td>...</td>\n",
       "      <td>...</td>\n",
       "      <td>...</td>\n",
       "      <td>...</td>\n",
       "    </tr>\n",
       "    <tr>\n",
       "      <td>12232</td>\n",
       "      <td>2018-08-31</td>\n",
       "      <td>3.133384e+24</td>\n",
       "      <td>desktop</td>\n",
       "      <td>636136633433353</td>\n",
       "      <td>323765383935613</td>\n",
       "      <td>1</td>\n",
       "      <td>349</td>\n",
       "      <td>3.639383e+19</td>\n",
       "    </tr>\n",
       "    <tr>\n",
       "      <td>12233</td>\n",
       "      <td>2018-08-31</td>\n",
       "      <td>6.532624e+24</td>\n",
       "      <td>mobile</td>\n",
       "      <td>313334363633303</td>\n",
       "      <td>333437623263326</td>\n",
       "      <td>1</td>\n",
       "      <td>199</td>\n",
       "      <td>3.461394e+19</td>\n",
       "    </tr>\n",
       "    <tr>\n",
       "      <td>12234</td>\n",
       "      <td>2018-08-31</td>\n",
       "      <td>3.535356e+24</td>\n",
       "      <td>desktop</td>\n",
       "      <td>626166643633306</td>\n",
       "      <td>613264333961396</td>\n",
       "      <td>1</td>\n",
       "      <td>349</td>\n",
       "      <td>NaN</td>\n",
       "    </tr>\n",
       "    <tr>\n",
       "      <td>12235</td>\n",
       "      <td>2018-08-31</td>\n",
       "      <td>3.639664e+24</td>\n",
       "      <td>desktop</td>\n",
       "      <td>313030636530313</td>\n",
       "      <td>393665363031353</td>\n",
       "      <td>1</td>\n",
       "      <td>149</td>\n",
       "      <td>NaN</td>\n",
       "    </tr>\n",
       "    <tr>\n",
       "      <td>12236</td>\n",
       "      <td>2018-08-31</td>\n",
       "      <td>6.639613e+24</td>\n",
       "      <td>mobile</td>\n",
       "      <td>363033316437326</td>\n",
       "      <td>343466353731646</td>\n",
       "      <td>1</td>\n",
       "      <td>479</td>\n",
       "      <td>6.436654e+19</td>\n",
       "    </tr>\n",
       "  </tbody>\n",
       "</table>\n",
       "<p>12237 rows × 8 columns</p>\n",
       "</div>"
      ],
      "text/plain": [
       "            date    visitor_id deviceType         order_id    on_product_id  \\\n",
       "0     2018-08-01  3.663324e+24    desktop  363063373630306  323762666337343   \n",
       "1     2018-08-01  3.430317e+24     mobile  356664366366353  313562333039323   \n",
       "2     2018-08-01  3.261343e+24    desktop  313432656633333  383863346531623   \n",
       "3     2018-08-01  6.437387e+24     mobile  633236633438383  666136386663626   \n",
       "4     2018-08-01  6.264657e+24    desktop  623030326130383  626533383465323   \n",
       "...          ...           ...        ...              ...              ...   \n",
       "12232 2018-08-31  3.133384e+24    desktop  636136633433353  323765383935613   \n",
       "12233 2018-08-31  6.532624e+24     mobile  313334363633303  333437623263326   \n",
       "12234 2018-08-31  3.535356e+24    desktop  626166643633306  613264333961396   \n",
       "12235 2018-08-31  3.639664e+24    desktop  313030636530313  393665363031353   \n",
       "12236 2018-08-31  6.639613e+24     mobile  363033316437326  343466353731646   \n",
       "\n",
       "       quantity  price   customer_id  \n",
       "0             1    839           NaN  \n",
       "1             1    629  6.339334e+19  \n",
       "2             1    219  3.765363e+19  \n",
       "3             1    239  6.533383e+19  \n",
       "4             1     69           NaN  \n",
       "...         ...    ...           ...  \n",
       "12232         1    349  3.639383e+19  \n",
       "12233         1    199  3.461394e+19  \n",
       "12234         1    349           NaN  \n",
       "12235         1    149           NaN  \n",
       "12236         1    479  6.436654e+19  \n",
       "\n",
       "[12237 rows x 8 columns]"
      ]
     },
     "execution_count": 6,
     "metadata": {},
     "output_type": "execute_result"
    }
   ],
   "source": [
    "onlineorders_data"
   ]
  },
  {
   "cell_type": "code",
   "execution_count": 7,
   "metadata": {},
   "outputs": [],
   "source": [
    "onlinepageviews_data = pd.read_json(\"online_pageviews.json\", lines=True)"
   ]
  },
  {
   "cell_type": "code",
   "execution_count": 8,
   "metadata": {},
   "outputs": [
    {
     "data": {
      "text/html": [
       "<div>\n",
       "<style scoped>\n",
       "    .dataframe tbody tr th:only-of-type {\n",
       "        vertical-align: middle;\n",
       "    }\n",
       "\n",
       "    .dataframe tbody tr th {\n",
       "        vertical-align: top;\n",
       "    }\n",
       "\n",
       "    .dataframe thead th {\n",
       "        text-align: right;\n",
       "    }\n",
       "</style>\n",
       "<table border=\"1\" class=\"dataframe\">\n",
       "  <thead>\n",
       "    <tr style=\"text-align: right;\">\n",
       "      <th></th>\n",
       "      <th>date</th>\n",
       "      <th>visitor_id</th>\n",
       "      <th>deviceType</th>\n",
       "      <th>pageType</th>\n",
       "      <th>category_id</th>\n",
       "      <th>on_product_id</th>\n",
       "      <th>customer_id</th>\n",
       "    </tr>\n",
       "  </thead>\n",
       "  <tbody>\n",
       "    <tr>\n",
       "      <td>0</td>\n",
       "      <td>2018-08-01</td>\n",
       "      <td>6.162326e+24</td>\n",
       "      <td>desktop</td>\n",
       "      <td>home</td>\n",
       "      <td>NaN</td>\n",
       "      <td>NaN</td>\n",
       "      <td>NaN</td>\n",
       "    </tr>\n",
       "    <tr>\n",
       "      <td>1</td>\n",
       "      <td>2018-08-01</td>\n",
       "      <td>3.538363e+24</td>\n",
       "      <td>desktop</td>\n",
       "      <td>landing_page</td>\n",
       "      <td>NaN</td>\n",
       "      <td>NaN</td>\n",
       "      <td>NaN</td>\n",
       "    </tr>\n",
       "    <tr>\n",
       "      <td>2</td>\n",
       "      <td>2018-08-01</td>\n",
       "      <td>3.130377e+24</td>\n",
       "      <td>mobile</td>\n",
       "      <td>subcategory</td>\n",
       "      <td>6.161393e+09</td>\n",
       "      <td>NaN</td>\n",
       "      <td>NaN</td>\n",
       "    </tr>\n",
       "    <tr>\n",
       "      <td>3</td>\n",
       "      <td>2018-08-01</td>\n",
       "      <td>3.130377e+24</td>\n",
       "      <td>mobile</td>\n",
       "      <td>subcategory</td>\n",
       "      <td>6.664354e+09</td>\n",
       "      <td>NaN</td>\n",
       "      <td>NaN</td>\n",
       "    </tr>\n",
       "    <tr>\n",
       "      <td>4</td>\n",
       "      <td>2018-08-01</td>\n",
       "      <td>3.235374e+24</td>\n",
       "      <td>desktop</td>\n",
       "      <td>landing_page</td>\n",
       "      <td>NaN</td>\n",
       "      <td>NaN</td>\n",
       "      <td>NaN</td>\n",
       "    </tr>\n",
       "    <tr>\n",
       "      <td>...</td>\n",
       "      <td>...</td>\n",
       "      <td>...</td>\n",
       "      <td>...</td>\n",
       "      <td>...</td>\n",
       "      <td>...</td>\n",
       "      <td>...</td>\n",
       "      <td>...</td>\n",
       "    </tr>\n",
       "    <tr>\n",
       "      <td>3452535</td>\n",
       "      <td>2018-08-31</td>\n",
       "      <td>3.764303e+24</td>\n",
       "      <td>mobile</td>\n",
       "      <td>product</td>\n",
       "      <td>3.533344e+09</td>\n",
       "      <td>3.962384e+14</td>\n",
       "      <td>NaN</td>\n",
       "    </tr>\n",
       "    <tr>\n",
       "      <td>3452536</td>\n",
       "      <td>2018-08-31</td>\n",
       "      <td>3.830366e+24</td>\n",
       "      <td>desktop</td>\n",
       "      <td>subcategory</td>\n",
       "      <td>3.733386e+09</td>\n",
       "      <td>NaN</td>\n",
       "      <td>NaN</td>\n",
       "    </tr>\n",
       "    <tr>\n",
       "      <td>3452537</td>\n",
       "      <td>2018-08-31</td>\n",
       "      <td>6.261346e+24</td>\n",
       "      <td>mobile</td>\n",
       "      <td>subcategory</td>\n",
       "      <td>3.733386e+09</td>\n",
       "      <td>NaN</td>\n",
       "      <td>NaN</td>\n",
       "    </tr>\n",
       "    <tr>\n",
       "      <td>3452538</td>\n",
       "      <td>2018-08-31</td>\n",
       "      <td>6.137614e+24</td>\n",
       "      <td>mobile</td>\n",
       "      <td>subcategory</td>\n",
       "      <td>3.136306e+09</td>\n",
       "      <td>NaN</td>\n",
       "      <td>NaN</td>\n",
       "    </tr>\n",
       "    <tr>\n",
       "      <td>3452539</td>\n",
       "      <td>2018-08-31</td>\n",
       "      <td>3.839633e+24</td>\n",
       "      <td>desktop</td>\n",
       "      <td>product</td>\n",
       "      <td>3.163313e+09</td>\n",
       "      <td>3.837356e+14</td>\n",
       "      <td>NaN</td>\n",
       "    </tr>\n",
       "  </tbody>\n",
       "</table>\n",
       "<p>3452540 rows × 7 columns</p>\n",
       "</div>"
      ],
      "text/plain": [
       "              date    visitor_id deviceType      pageType   category_id  \\\n",
       "0       2018-08-01  6.162326e+24    desktop          home           NaN   \n",
       "1       2018-08-01  3.538363e+24    desktop  landing_page           NaN   \n",
       "2       2018-08-01  3.130377e+24     mobile   subcategory  6.161393e+09   \n",
       "3       2018-08-01  3.130377e+24     mobile   subcategory  6.664354e+09   \n",
       "4       2018-08-01  3.235374e+24    desktop  landing_page           NaN   \n",
       "...            ...           ...        ...           ...           ...   \n",
       "3452535 2018-08-31  3.764303e+24     mobile       product  3.533344e+09   \n",
       "3452536 2018-08-31  3.830366e+24    desktop   subcategory  3.733386e+09   \n",
       "3452537 2018-08-31  6.261346e+24     mobile   subcategory  3.733386e+09   \n",
       "3452538 2018-08-31  6.137614e+24     mobile   subcategory  3.136306e+09   \n",
       "3452539 2018-08-31  3.839633e+24    desktop       product  3.163313e+09   \n",
       "\n",
       "         on_product_id  customer_id  \n",
       "0                  NaN          NaN  \n",
       "1                  NaN          NaN  \n",
       "2                  NaN          NaN  \n",
       "3                  NaN          NaN  \n",
       "4                  NaN          NaN  \n",
       "...                ...          ...  \n",
       "3452535   3.962384e+14          NaN  \n",
       "3452536            NaN          NaN  \n",
       "3452537            NaN          NaN  \n",
       "3452538            NaN          NaN  \n",
       "3452539   3.837356e+14          NaN  \n",
       "\n",
       "[3452540 rows x 7 columns]"
      ]
     },
     "execution_count": 8,
     "metadata": {},
     "output_type": "execute_result"
    }
   ],
   "source": [
    "onlinepageviews_data"
   ]
  },
  {
   "cell_type": "markdown",
   "metadata": {},
   "source": [
    "Verificando quantity diferente de 1."
   ]
  },
  {
   "cell_type": "code",
   "execution_count": 9,
   "metadata": {},
   "outputs": [
    {
     "data": {
      "text/plain": [
       "1    12209\n",
       "2       26\n",
       "3        2\n",
       "Name: quantity, dtype: int64"
      ]
     },
     "execution_count": 9,
     "metadata": {},
     "output_type": "execute_result"
    }
   ],
   "source": [
    "onlineorders_data['quantity'].value_counts()"
   ]
  },
  {
   "cell_type": "code",
   "execution_count": 10,
   "metadata": {},
   "outputs": [
    {
     "data": {
      "text/plain": [
       "1    28784\n",
       "2      531\n",
       "3       43\n",
       "4       10\n",
       "5        2\n",
       "9        1\n",
       "6        1\n",
       "Name: quantity, dtype: int64"
      ]
     },
     "execution_count": 10,
     "metadata": {},
     "output_type": "execute_result"
    }
   ],
   "source": [
    "offline_data['quantity'].value_counts()"
   ]
  },
  {
   "cell_type": "markdown",
   "metadata": {},
   "source": [
    "No .json foi verificado que price não está multiplicado por quantity."
   ]
  },
  {
   "cell_type": "markdown",
   "metadata": {},
   "source": [
    "Cópia dos dataframes."
   ]
  },
  {
   "cell_type": "code",
   "execution_count": 11,
   "metadata": {},
   "outputs": [],
   "source": [
    "offline_copy = offline_data.copy()\n",
    "onlineorders_copy = onlineorders_data.copy()\n",
    "onlinepageviews_copy = onlinepageviews_data.copy()"
   ]
  },
  {
   "cell_type": "markdown",
   "metadata": {},
   "source": [
    "Criando uma nova coluna com o resultado da multiplicação entre \"quantity\" e \"price\""
   ]
  },
  {
   "cell_type": "code",
   "execution_count": 12,
   "metadata": {},
   "outputs": [
    {
     "data": {
      "text/html": [
       "<div>\n",
       "<style scoped>\n",
       "    .dataframe tbody tr th:only-of-type {\n",
       "        vertical-align: middle;\n",
       "    }\n",
       "\n",
       "    .dataframe tbody tr th {\n",
       "        vertical-align: top;\n",
       "    }\n",
       "\n",
       "    .dataframe thead th {\n",
       "        text-align: right;\n",
       "    }\n",
       "</style>\n",
       "<table border=\"1\" class=\"dataframe\">\n",
       "  <thead>\n",
       "    <tr style=\"text-align: right;\">\n",
       "      <th></th>\n",
       "      <th>date</th>\n",
       "      <th>state</th>\n",
       "      <th>store_id</th>\n",
       "      <th>sale_id</th>\n",
       "      <th>off_product_id</th>\n",
       "      <th>quantity</th>\n",
       "      <th>price</th>\n",
       "      <th>customer_id</th>\n",
       "      <th>total</th>\n",
       "    </tr>\n",
       "  </thead>\n",
       "  <tbody>\n",
       "    <tr>\n",
       "      <td>0</td>\n",
       "      <td>2018-08-01</td>\n",
       "      <td>RN</td>\n",
       "      <td>3162633</td>\n",
       "      <td>323932636465316</td>\n",
       "      <td>643839313230323</td>\n",
       "      <td>1</td>\n",
       "      <td>279.0</td>\n",
       "      <td>NaN</td>\n",
       "      <td>279.0</td>\n",
       "    </tr>\n",
       "    <tr>\n",
       "      <td>1</td>\n",
       "      <td>2018-08-01</td>\n",
       "      <td>RN</td>\n",
       "      <td>3162633</td>\n",
       "      <td>326463633336323</td>\n",
       "      <td>613665646663346</td>\n",
       "      <td>1</td>\n",
       "      <td>229.0</td>\n",
       "      <td>NaN</td>\n",
       "      <td>229.0</td>\n",
       "    </tr>\n",
       "    <tr>\n",
       "      <td>2</td>\n",
       "      <td>2018-08-01</td>\n",
       "      <td>RN</td>\n",
       "      <td>3162633</td>\n",
       "      <td>333331346330323</td>\n",
       "      <td>343739666265353</td>\n",
       "      <td>1</td>\n",
       "      <td>179.0</td>\n",
       "      <td>NaN</td>\n",
       "      <td>179.0</td>\n",
       "    </tr>\n",
       "    <tr>\n",
       "      <td>3</td>\n",
       "      <td>2018-08-01</td>\n",
       "      <td>RN</td>\n",
       "      <td>3162633</td>\n",
       "      <td>393461383633336</td>\n",
       "      <td>373034633762613</td>\n",
       "      <td>1</td>\n",
       "      <td>269.0</td>\n",
       "      <td>NaN</td>\n",
       "      <td>269.0</td>\n",
       "    </tr>\n",
       "    <tr>\n",
       "      <td>4</td>\n",
       "      <td>2018-08-01</td>\n",
       "      <td>RN</td>\n",
       "      <td>3162633</td>\n",
       "      <td>616531626536373</td>\n",
       "      <td>343634373062363</td>\n",
       "      <td>1</td>\n",
       "      <td>29.0</td>\n",
       "      <td>NaN</td>\n",
       "      <td>29.0</td>\n",
       "    </tr>\n",
       "    <tr>\n",
       "      <td>...</td>\n",
       "      <td>...</td>\n",
       "      <td>...</td>\n",
       "      <td>...</td>\n",
       "      <td>...</td>\n",
       "      <td>...</td>\n",
       "      <td>...</td>\n",
       "      <td>...</td>\n",
       "      <td>...</td>\n",
       "      <td>...</td>\n",
       "    </tr>\n",
       "    <tr>\n",
       "      <td>29367</td>\n",
       "      <td>2018-08-31</td>\n",
       "      <td>RS</td>\n",
       "      <td>6637353</td>\n",
       "      <td>633064386463376</td>\n",
       "      <td>346433376135623</td>\n",
       "      <td>1</td>\n",
       "      <td>129.0</td>\n",
       "      <td>6.439626e+19</td>\n",
       "      <td>129.0</td>\n",
       "    </tr>\n",
       "    <tr>\n",
       "      <td>29368</td>\n",
       "      <td>2018-08-31</td>\n",
       "      <td>RS</td>\n",
       "      <td>6637353</td>\n",
       "      <td>633064386463376</td>\n",
       "      <td>633239313036316</td>\n",
       "      <td>1</td>\n",
       "      <td>138.0</td>\n",
       "      <td>6.439626e+19</td>\n",
       "      <td>138.0</td>\n",
       "    </tr>\n",
       "    <tr>\n",
       "      <td>29369</td>\n",
       "      <td>2018-08-31</td>\n",
       "      <td>RS</td>\n",
       "      <td>6637353</td>\n",
       "      <td>393832393138626</td>\n",
       "      <td>333938616133373</td>\n",
       "      <td>1</td>\n",
       "      <td>149.0</td>\n",
       "      <td>6.632647e+19</td>\n",
       "      <td>149.0</td>\n",
       "    </tr>\n",
       "    <tr>\n",
       "      <td>29370</td>\n",
       "      <td>2018-08-31</td>\n",
       "      <td>RS</td>\n",
       "      <td>6637353</td>\n",
       "      <td>393832393138626</td>\n",
       "      <td>366337303963646</td>\n",
       "      <td>1</td>\n",
       "      <td>109.0</td>\n",
       "      <td>6.632647e+19</td>\n",
       "      <td>109.0</td>\n",
       "    </tr>\n",
       "    <tr>\n",
       "      <td>29371</td>\n",
       "      <td>2018-08-31</td>\n",
       "      <td>RS</td>\n",
       "      <td>6637353</td>\n",
       "      <td>393832393138626</td>\n",
       "      <td>393961643766636</td>\n",
       "      <td>1</td>\n",
       "      <td>134.5</td>\n",
       "      <td>6.632647e+19</td>\n",
       "      <td>134.5</td>\n",
       "    </tr>\n",
       "  </tbody>\n",
       "</table>\n",
       "<p>29372 rows × 9 columns</p>\n",
       "</div>"
      ],
      "text/plain": [
       "            date state  store_id          sale_id   off_product_id  quantity  \\\n",
       "0     2018-08-01    RN   3162633  323932636465316  643839313230323         1   \n",
       "1     2018-08-01    RN   3162633  326463633336323  613665646663346         1   \n",
       "2     2018-08-01    RN   3162633  333331346330323  343739666265353         1   \n",
       "3     2018-08-01    RN   3162633  393461383633336  373034633762613         1   \n",
       "4     2018-08-01    RN   3162633  616531626536373  343634373062363         1   \n",
       "...          ...   ...       ...              ...              ...       ...   \n",
       "29367 2018-08-31    RS   6637353  633064386463376  346433376135623         1   \n",
       "29368 2018-08-31    RS   6637353  633064386463376  633239313036316         1   \n",
       "29369 2018-08-31    RS   6637353  393832393138626  333938616133373         1   \n",
       "29370 2018-08-31    RS   6637353  393832393138626  366337303963646         1   \n",
       "29371 2018-08-31    RS   6637353  393832393138626  393961643766636         1   \n",
       "\n",
       "       price   customer_id  total  \n",
       "0      279.0           NaN  279.0  \n",
       "1      229.0           NaN  229.0  \n",
       "2      179.0           NaN  179.0  \n",
       "3      269.0           NaN  269.0  \n",
       "4       29.0           NaN   29.0  \n",
       "...      ...           ...    ...  \n",
       "29367  129.0  6.439626e+19  129.0  \n",
       "29368  138.0  6.439626e+19  138.0  \n",
       "29369  149.0  6.632647e+19  149.0  \n",
       "29370  109.0  6.632647e+19  109.0  \n",
       "29371  134.5  6.632647e+19  134.5  \n",
       "\n",
       "[29372 rows x 9 columns]"
      ]
     },
     "execution_count": 12,
     "metadata": {},
     "output_type": "execute_result"
    }
   ],
   "source": [
    "offline_copy['total'] = offline_copy['quantity'] * offline_copy['price']\n",
    "offline_copy"
   ]
  },
  {
   "cell_type": "markdown",
   "metadata": {},
   "source": [
    "Calculando o somatório da coluna \"total\" para obter o resultado de faturamento das vendas offline."
   ]
  },
  {
   "cell_type": "code",
   "execution_count": 13,
   "metadata": {
    "scrolled": true
   },
   "outputs": [
    {
     "name": "stdout",
     "output_type": "stream",
     "text": [
      "13903005.32\n"
     ]
    }
   ],
   "source": [
    "total_offline = offline_copy['total'].sum()\n",
    "print(total_offline)"
   ]
  },
  {
   "cell_type": "markdown",
   "metadata": {},
   "source": [
    "Realizando os mesmos passos do offline para o online_orders."
   ]
  },
  {
   "cell_type": "code",
   "execution_count": 14,
   "metadata": {},
   "outputs": [
    {
     "data": {
      "text/html": [
       "<div>\n",
       "<style scoped>\n",
       "    .dataframe tbody tr th:only-of-type {\n",
       "        vertical-align: middle;\n",
       "    }\n",
       "\n",
       "    .dataframe tbody tr th {\n",
       "        vertical-align: top;\n",
       "    }\n",
       "\n",
       "    .dataframe thead th {\n",
       "        text-align: right;\n",
       "    }\n",
       "</style>\n",
       "<table border=\"1\" class=\"dataframe\">\n",
       "  <thead>\n",
       "    <tr style=\"text-align: right;\">\n",
       "      <th></th>\n",
       "      <th>date</th>\n",
       "      <th>visitor_id</th>\n",
       "      <th>deviceType</th>\n",
       "      <th>order_id</th>\n",
       "      <th>on_product_id</th>\n",
       "      <th>quantity</th>\n",
       "      <th>price</th>\n",
       "      <th>customer_id</th>\n",
       "      <th>total</th>\n",
       "    </tr>\n",
       "  </thead>\n",
       "  <tbody>\n",
       "    <tr>\n",
       "      <td>0</td>\n",
       "      <td>2018-08-01</td>\n",
       "      <td>3.663324e+24</td>\n",
       "      <td>desktop</td>\n",
       "      <td>363063373630306</td>\n",
       "      <td>323762666337343</td>\n",
       "      <td>1</td>\n",
       "      <td>839</td>\n",
       "      <td>NaN</td>\n",
       "      <td>839</td>\n",
       "    </tr>\n",
       "    <tr>\n",
       "      <td>1</td>\n",
       "      <td>2018-08-01</td>\n",
       "      <td>3.430317e+24</td>\n",
       "      <td>mobile</td>\n",
       "      <td>356664366366353</td>\n",
       "      <td>313562333039323</td>\n",
       "      <td>1</td>\n",
       "      <td>629</td>\n",
       "      <td>6.339334e+19</td>\n",
       "      <td>629</td>\n",
       "    </tr>\n",
       "    <tr>\n",
       "      <td>2</td>\n",
       "      <td>2018-08-01</td>\n",
       "      <td>3.261343e+24</td>\n",
       "      <td>desktop</td>\n",
       "      <td>313432656633333</td>\n",
       "      <td>383863346531623</td>\n",
       "      <td>1</td>\n",
       "      <td>219</td>\n",
       "      <td>3.765363e+19</td>\n",
       "      <td>219</td>\n",
       "    </tr>\n",
       "    <tr>\n",
       "      <td>3</td>\n",
       "      <td>2018-08-01</td>\n",
       "      <td>6.437387e+24</td>\n",
       "      <td>mobile</td>\n",
       "      <td>633236633438383</td>\n",
       "      <td>666136386663626</td>\n",
       "      <td>1</td>\n",
       "      <td>239</td>\n",
       "      <td>6.533383e+19</td>\n",
       "      <td>239</td>\n",
       "    </tr>\n",
       "    <tr>\n",
       "      <td>4</td>\n",
       "      <td>2018-08-01</td>\n",
       "      <td>6.264657e+24</td>\n",
       "      <td>desktop</td>\n",
       "      <td>623030326130383</td>\n",
       "      <td>626533383465323</td>\n",
       "      <td>1</td>\n",
       "      <td>69</td>\n",
       "      <td>NaN</td>\n",
       "      <td>69</td>\n",
       "    </tr>\n",
       "    <tr>\n",
       "      <td>...</td>\n",
       "      <td>...</td>\n",
       "      <td>...</td>\n",
       "      <td>...</td>\n",
       "      <td>...</td>\n",
       "      <td>...</td>\n",
       "      <td>...</td>\n",
       "      <td>...</td>\n",
       "      <td>...</td>\n",
       "      <td>...</td>\n",
       "    </tr>\n",
       "    <tr>\n",
       "      <td>12232</td>\n",
       "      <td>2018-08-31</td>\n",
       "      <td>3.133384e+24</td>\n",
       "      <td>desktop</td>\n",
       "      <td>636136633433353</td>\n",
       "      <td>323765383935613</td>\n",
       "      <td>1</td>\n",
       "      <td>349</td>\n",
       "      <td>3.639383e+19</td>\n",
       "      <td>349</td>\n",
       "    </tr>\n",
       "    <tr>\n",
       "      <td>12233</td>\n",
       "      <td>2018-08-31</td>\n",
       "      <td>6.532624e+24</td>\n",
       "      <td>mobile</td>\n",
       "      <td>313334363633303</td>\n",
       "      <td>333437623263326</td>\n",
       "      <td>1</td>\n",
       "      <td>199</td>\n",
       "      <td>3.461394e+19</td>\n",
       "      <td>199</td>\n",
       "    </tr>\n",
       "    <tr>\n",
       "      <td>12234</td>\n",
       "      <td>2018-08-31</td>\n",
       "      <td>3.535356e+24</td>\n",
       "      <td>desktop</td>\n",
       "      <td>626166643633306</td>\n",
       "      <td>613264333961396</td>\n",
       "      <td>1</td>\n",
       "      <td>349</td>\n",
       "      <td>NaN</td>\n",
       "      <td>349</td>\n",
       "    </tr>\n",
       "    <tr>\n",
       "      <td>12235</td>\n",
       "      <td>2018-08-31</td>\n",
       "      <td>3.639664e+24</td>\n",
       "      <td>desktop</td>\n",
       "      <td>313030636530313</td>\n",
       "      <td>393665363031353</td>\n",
       "      <td>1</td>\n",
       "      <td>149</td>\n",
       "      <td>NaN</td>\n",
       "      <td>149</td>\n",
       "    </tr>\n",
       "    <tr>\n",
       "      <td>12236</td>\n",
       "      <td>2018-08-31</td>\n",
       "      <td>6.639613e+24</td>\n",
       "      <td>mobile</td>\n",
       "      <td>363033316437326</td>\n",
       "      <td>343466353731646</td>\n",
       "      <td>1</td>\n",
       "      <td>479</td>\n",
       "      <td>6.436654e+19</td>\n",
       "      <td>479</td>\n",
       "    </tr>\n",
       "  </tbody>\n",
       "</table>\n",
       "<p>12237 rows × 9 columns</p>\n",
       "</div>"
      ],
      "text/plain": [
       "            date    visitor_id deviceType         order_id    on_product_id  \\\n",
       "0     2018-08-01  3.663324e+24    desktop  363063373630306  323762666337343   \n",
       "1     2018-08-01  3.430317e+24     mobile  356664366366353  313562333039323   \n",
       "2     2018-08-01  3.261343e+24    desktop  313432656633333  383863346531623   \n",
       "3     2018-08-01  6.437387e+24     mobile  633236633438383  666136386663626   \n",
       "4     2018-08-01  6.264657e+24    desktop  623030326130383  626533383465323   \n",
       "...          ...           ...        ...              ...              ...   \n",
       "12232 2018-08-31  3.133384e+24    desktop  636136633433353  323765383935613   \n",
       "12233 2018-08-31  6.532624e+24     mobile  313334363633303  333437623263326   \n",
       "12234 2018-08-31  3.535356e+24    desktop  626166643633306  613264333961396   \n",
       "12235 2018-08-31  3.639664e+24    desktop  313030636530313  393665363031353   \n",
       "12236 2018-08-31  6.639613e+24     mobile  363033316437326  343466353731646   \n",
       "\n",
       "       quantity  price   customer_id  total  \n",
       "0             1    839           NaN    839  \n",
       "1             1    629  6.339334e+19    629  \n",
       "2             1    219  3.765363e+19    219  \n",
       "3             1    239  6.533383e+19    239  \n",
       "4             1     69           NaN     69  \n",
       "...         ...    ...           ...    ...  \n",
       "12232         1    349  3.639383e+19    349  \n",
       "12233         1    199  3.461394e+19    199  \n",
       "12234         1    349           NaN    349  \n",
       "12235         1    149           NaN    149  \n",
       "12236         1    479  6.436654e+19    479  \n",
       "\n",
       "[12237 rows x 9 columns]"
      ]
     },
     "execution_count": 14,
     "metadata": {},
     "output_type": "execute_result"
    }
   ],
   "source": [
    "onlineorders_copy['total'] = onlineorders_copy['quantity'] * onlineorders_copy['price']\n",
    "onlineorders_copy"
   ]
  },
  {
   "cell_type": "code",
   "execution_count": 15,
   "metadata": {},
   "outputs": [
    {
     "name": "stdout",
     "output_type": "stream",
     "text": [
      "5649323\n"
     ]
    }
   ],
   "source": [
    "total_online = onlineorders_copy['total'].sum()\n",
    "print(total_online)"
   ]
  },
  {
   "cell_type": "markdown",
   "metadata": {},
   "source": [
    "Calculando o valor total das vendas, somando o faturamento online e offline e calculando a porcetagem de cada uma."
   ]
  },
  {
   "cell_type": "code",
   "execution_count": 16,
   "metadata": {},
   "outputs": [
    {
     "name": "stdout",
     "output_type": "stream",
     "text": [
      "19552328.32\n",
      "28.893351766302583 71.10664823369743\n"
     ]
    }
   ],
   "source": [
    "total_on_off = total_online + total_offline\n",
    "print(total_on_off)\n",
    "porc_faton = 5649323 / total_on_off * 100\n",
    "porc_fatoff = 13903005.32 / total_on_off * 100\n",
    "print(porc_faton, porc_fatoff)"
   ]
  },
  {
   "cell_type": "markdown",
   "metadata": {},
   "source": [
    "Gráfico do faturamento."
   ]
  },
  {
   "cell_type": "code",
   "execution_count": 17,
   "metadata": {},
   "outputs": [
    {
     "data": {
      "image/png": "[encoded data removed]",
      "text/plain": [
       "<Figure size 432x288 with 1 Axes>"
      ]
     },
     "metadata": {
      "needs_background": "light"
     },
     "output_type": "display_data"
    }
   ],
   "source": [
    "lojas = [\"Online\", \"Offline\", \"Online + Offline\"]\n",
    "faturamento = [5649323, 13903005.32, 19552328.32]\n",
    "\n",
    "plt.bar(lojas, faturamento, align='center')\n",
    "plt.xticks(lojas)\n",
    "plt.ylabel('Faturamento')\n",
    "plt.title('Faturamento por loja')\n",
    "plt.gcf().axes[0].yaxis.get_major_formatter().set_scientific(False)\n",
    "\n",
    "plt.show()"
   ]
  },
  {
   "cell_type": "markdown",
   "metadata": {},
   "source": [
    "Agrupando \"on_product_id\" e somando \"quantity\"."
   ]
  },
  {
   "cell_type": "code",
   "execution_count": 18,
   "metadata": {},
   "outputs": [],
   "source": [
    "onlineorders_object = onlineorders_copy.copy()"
   ]
  },
  {
   "cell_type": "code",
   "execution_count": 19,
   "metadata": {},
   "outputs": [],
   "source": [
    "onlineorders_object = onlineorders_object.drop([\"date\", \"visitor_id\", \"deviceType\", \"order_id\", \"price\", \"customer_id\", \"total\"], axis=1)"
   ]
  },
  {
   "cell_type": "code",
   "execution_count": 20,
   "metadata": {},
   "outputs": [
    {
     "data": {
      "text/html": [
       "<div>\n",
       "<style scoped>\n",
       "    .dataframe tbody tr th:only-of-type {\n",
       "        vertical-align: middle;\n",
       "    }\n",
       "\n",
       "    .dataframe tbody tr th {\n",
       "        vertical-align: top;\n",
       "    }\n",
       "\n",
       "    .dataframe thead th {\n",
       "        text-align: right;\n",
       "    }\n",
       "</style>\n",
       "<table border=\"1\" class=\"dataframe\">\n",
       "  <thead>\n",
       "    <tr style=\"text-align: right;\">\n",
       "      <th></th>\n",
       "      <th>on_product_id</th>\n",
       "      <th>quantity</th>\n",
       "    </tr>\n",
       "  </thead>\n",
       "  <tbody>\n",
       "    <tr>\n",
       "      <td>0</td>\n",
       "      <td>323762666337343</td>\n",
       "      <td>1</td>\n",
       "    </tr>\n",
       "    <tr>\n",
       "      <td>1</td>\n",
       "      <td>313562333039323</td>\n",
       "      <td>1</td>\n",
       "    </tr>\n",
       "    <tr>\n",
       "      <td>2</td>\n",
       "      <td>383863346531623</td>\n",
       "      <td>1</td>\n",
       "    </tr>\n",
       "    <tr>\n",
       "      <td>3</td>\n",
       "      <td>666136386663626</td>\n",
       "      <td>1</td>\n",
       "    </tr>\n",
       "    <tr>\n",
       "      <td>4</td>\n",
       "      <td>626533383465323</td>\n",
       "      <td>1</td>\n",
       "    </tr>\n",
       "    <tr>\n",
       "      <td>...</td>\n",
       "      <td>...</td>\n",
       "      <td>...</td>\n",
       "    </tr>\n",
       "    <tr>\n",
       "      <td>12232</td>\n",
       "      <td>323765383935613</td>\n",
       "      <td>1</td>\n",
       "    </tr>\n",
       "    <tr>\n",
       "      <td>12233</td>\n",
       "      <td>333437623263326</td>\n",
       "      <td>1</td>\n",
       "    </tr>\n",
       "    <tr>\n",
       "      <td>12234</td>\n",
       "      <td>613264333961396</td>\n",
       "      <td>1</td>\n",
       "    </tr>\n",
       "    <tr>\n",
       "      <td>12235</td>\n",
       "      <td>393665363031353</td>\n",
       "      <td>1</td>\n",
       "    </tr>\n",
       "    <tr>\n",
       "      <td>12236</td>\n",
       "      <td>343466353731646</td>\n",
       "      <td>1</td>\n",
       "    </tr>\n",
       "  </tbody>\n",
       "</table>\n",
       "<p>12237 rows × 2 columns</p>\n",
       "</div>"
      ],
      "text/plain": [
       "         on_product_id  quantity\n",
       "0      323762666337343         1\n",
       "1      313562333039323         1\n",
       "2      383863346531623         1\n",
       "3      666136386663626         1\n",
       "4      626533383465323         1\n",
       "...                ...       ...\n",
       "12232  323765383935613         1\n",
       "12233  333437623263326         1\n",
       "12234  613264333961396         1\n",
       "12235  393665363031353         1\n",
       "12236  343466353731646         1\n",
       "\n",
       "[12237 rows x 2 columns]"
      ]
     },
     "execution_count": 20,
     "metadata": {},
     "output_type": "execute_result"
    }
   ],
   "source": [
    "onlineorders_object"
   ]
  },
  {
   "cell_type": "code",
   "execution_count": 21,
   "metadata": {},
   "outputs": [
    {
     "data": {
      "text/html": [
       "<div>\n",
       "<style scoped>\n",
       "    .dataframe tbody tr th:only-of-type {\n",
       "        vertical-align: middle;\n",
       "    }\n",
       "\n",
       "    .dataframe tbody tr th {\n",
       "        vertical-align: top;\n",
       "    }\n",
       "\n",
       "    .dataframe thead th {\n",
       "        text-align: right;\n",
       "    }\n",
       "</style>\n",
       "<table border=\"1\" class=\"dataframe\">\n",
       "  <thead>\n",
       "    <tr style=\"text-align: right;\">\n",
       "      <th></th>\n",
       "      <th>quantity</th>\n",
       "    </tr>\n",
       "    <tr>\n",
       "      <th>on_product_id</th>\n",
       "      <th></th>\n",
       "    </tr>\n",
       "  </thead>\n",
       "  <tbody>\n",
       "    <tr>\n",
       "      <td>303038303931323</td>\n",
       "      <td>2</td>\n",
       "    </tr>\n",
       "    <tr>\n",
       "      <td>303062656662333</td>\n",
       "      <td>21</td>\n",
       "    </tr>\n",
       "    <tr>\n",
       "      <td>303063623230393</td>\n",
       "      <td>4</td>\n",
       "    </tr>\n",
       "    <tr>\n",
       "      <td>303133353935633</td>\n",
       "      <td>3</td>\n",
       "    </tr>\n",
       "    <tr>\n",
       "      <td>303165306164386</td>\n",
       "      <td>1</td>\n",
       "    </tr>\n",
       "  </tbody>\n",
       "</table>\n",
       "</div>"
      ],
      "text/plain": [
       "                 quantity\n",
       "on_product_id            \n",
       "303038303931323         2\n",
       "303062656662333        21\n",
       "303063623230393         4\n",
       "303133353935633         3\n",
       "303165306164386         1"
      ]
     },
     "execution_count": 21,
     "metadata": {},
     "output_type": "execute_result"
    }
   ],
   "source": [
    "object_grouped = onlineorders_object.groupby('on_product_id').sum()\n",
    "object_grouped.head()"
   ]
  },
  {
   "cell_type": "markdown",
   "metadata": {},
   "source": [
    "Verificando qual objeto tem quantia maior."
   ]
  },
  {
   "cell_type": "code",
   "execution_count": 22,
   "metadata": {},
   "outputs": [
    {
     "data": {
      "text/plain": [
       "quantity    74\n",
       "Name: 626664333563363, dtype: int64"
      ]
     },
     "execution_count": 22,
     "metadata": {},
     "output_type": "execute_result"
    }
   ],
   "source": [
    "object_grouped.loc[object_grouped['quantity'].idxmax()]"
   ]
  },
  {
   "cell_type": "markdown",
   "metadata": {},
   "source": [
    "Criando um ranking dos 5 que mais venderam."
   ]
  },
  {
   "cell_type": "code",
   "execution_count": 23,
   "metadata": {},
   "outputs": [
    {
     "data": {
      "text/html": [
       "<div>\n",
       "<style scoped>\n",
       "    .dataframe tbody tr th:only-of-type {\n",
       "        vertical-align: middle;\n",
       "    }\n",
       "\n",
       "    .dataframe tbody tr th {\n",
       "        vertical-align: top;\n",
       "    }\n",
       "\n",
       "    .dataframe thead th {\n",
       "        text-align: right;\n",
       "    }\n",
       "</style>\n",
       "<table border=\"1\" class=\"dataframe\">\n",
       "  <thead>\n",
       "    <tr style=\"text-align: right;\">\n",
       "      <th></th>\n",
       "      <th>quantity</th>\n",
       "    </tr>\n",
       "    <tr>\n",
       "      <th>on_product_id</th>\n",
       "      <th></th>\n",
       "    </tr>\n",
       "  </thead>\n",
       "  <tbody>\n",
       "    <tr>\n",
       "      <td>626664333563363</td>\n",
       "      <td>74</td>\n",
       "    </tr>\n",
       "    <tr>\n",
       "      <td>376531636530353</td>\n",
       "      <td>51</td>\n",
       "    </tr>\n",
       "    <tr>\n",
       "      <td>656136316465643</td>\n",
       "      <td>50</td>\n",
       "    </tr>\n",
       "    <tr>\n",
       "      <td>396464373131666</td>\n",
       "      <td>47</td>\n",
       "    </tr>\n",
       "    <tr>\n",
       "      <td>343033316438393</td>\n",
       "      <td>45</td>\n",
       "    </tr>\n",
       "  </tbody>\n",
       "</table>\n",
       "</div>"
      ],
      "text/plain": [
       "                 quantity\n",
       "on_product_id            \n",
       "626664333563363        74\n",
       "376531636530353        51\n",
       "656136316465643        50\n",
       "396464373131666        47\n",
       "343033316438393        45"
      ]
     },
     "execution_count": 23,
     "metadata": {},
     "output_type": "execute_result"
    }
   ],
   "source": [
    "object_grouped.nlargest(5, ['quantity'])"
   ]
  },
  {
   "cell_type": "markdown",
   "metadata": {},
   "source": [
    "Gráfico para visualização das vendas dos produtos que mais venderam."
   ]
  },
  {
   "cell_type": "code",
   "execution_count": 24,
   "metadata": {},
   "outputs": [
    {
     "data": {
      "image/png": "[encoded data removed]",
      "text/plain": [
       "<Figure size 432x288 with 1 Axes>"
      ]
     },
     "metadata": {
      "needs_background": "light"
     },
     "output_type": "display_data"
    }
   ],
   "source": [
    "mais_vendidos_online = ['626664333563363', '376531636530353', '656136316465643', '396464373131666', '343033316438393']\n",
    "qntd_mais_vendidos = [74, 51, 50, 47, 45]\n",
    "\n",
    "plt.bar(mais_vendidos_online, qntd_mais_vendidos, align='center')\n",
    "plt.xticks(mais_vendidos_online, rotation='vertical')\n",
    "plt.ylabel('Quantidade')\n",
    "plt.title('Rank dos 5 itens mais vendidos online')\n",
    "\n",
    "plt.show()"
   ]
  },
  {
   "cell_type": "markdown",
   "metadata": {},
   "source": [
    "Transformando date em dia da semana."
   ]
  },
  {
   "cell_type": "code",
   "execution_count": 25,
   "metadata": {},
   "outputs": [
    {
     "data": {
      "text/html": [
       "<div>\n",
       "<style scoped>\n",
       "    .dataframe tbody tr th:only-of-type {\n",
       "        vertical-align: middle;\n",
       "    }\n",
       "\n",
       "    .dataframe tbody tr th {\n",
       "        vertical-align: top;\n",
       "    }\n",
       "\n",
       "    .dataframe thead th {\n",
       "        text-align: right;\n",
       "    }\n",
       "</style>\n",
       "<table border=\"1\" class=\"dataframe\">\n",
       "  <thead>\n",
       "    <tr style=\"text-align: right;\">\n",
       "      <th></th>\n",
       "      <th>date</th>\n",
       "      <th>state</th>\n",
       "      <th>store_id</th>\n",
       "      <th>sale_id</th>\n",
       "      <th>off_product_id</th>\n",
       "      <th>quantity</th>\n",
       "      <th>price</th>\n",
       "      <th>customer_id</th>\n",
       "      <th>total</th>\n",
       "      <th>weekday</th>\n",
       "    </tr>\n",
       "  </thead>\n",
       "  <tbody>\n",
       "    <tr>\n",
       "      <td>0</td>\n",
       "      <td>2018-08-01</td>\n",
       "      <td>RN</td>\n",
       "      <td>3162633</td>\n",
       "      <td>323932636465316</td>\n",
       "      <td>643839313230323</td>\n",
       "      <td>1</td>\n",
       "      <td>279.0</td>\n",
       "      <td>NaN</td>\n",
       "      <td>279.0</td>\n",
       "      <td>Wednesday</td>\n",
       "    </tr>\n",
       "    <tr>\n",
       "      <td>1</td>\n",
       "      <td>2018-08-01</td>\n",
       "      <td>RN</td>\n",
       "      <td>3162633</td>\n",
       "      <td>326463633336323</td>\n",
       "      <td>613665646663346</td>\n",
       "      <td>1</td>\n",
       "      <td>229.0</td>\n",
       "      <td>NaN</td>\n",
       "      <td>229.0</td>\n",
       "      <td>Wednesday</td>\n",
       "    </tr>\n",
       "    <tr>\n",
       "      <td>2</td>\n",
       "      <td>2018-08-01</td>\n",
       "      <td>RN</td>\n",
       "      <td>3162633</td>\n",
       "      <td>333331346330323</td>\n",
       "      <td>343739666265353</td>\n",
       "      <td>1</td>\n",
       "      <td>179.0</td>\n",
       "      <td>NaN</td>\n",
       "      <td>179.0</td>\n",
       "      <td>Wednesday</td>\n",
       "    </tr>\n",
       "    <tr>\n",
       "      <td>3</td>\n",
       "      <td>2018-08-01</td>\n",
       "      <td>RN</td>\n",
       "      <td>3162633</td>\n",
       "      <td>393461383633336</td>\n",
       "      <td>373034633762613</td>\n",
       "      <td>1</td>\n",
       "      <td>269.0</td>\n",
       "      <td>NaN</td>\n",
       "      <td>269.0</td>\n",
       "      <td>Wednesday</td>\n",
       "    </tr>\n",
       "    <tr>\n",
       "      <td>4</td>\n",
       "      <td>2018-08-01</td>\n",
       "      <td>RN</td>\n",
       "      <td>3162633</td>\n",
       "      <td>616531626536373</td>\n",
       "      <td>343634373062363</td>\n",
       "      <td>1</td>\n",
       "      <td>29.0</td>\n",
       "      <td>NaN</td>\n",
       "      <td>29.0</td>\n",
       "      <td>Wednesday</td>\n",
       "    </tr>\n",
       "    <tr>\n",
       "      <td>...</td>\n",
       "      <td>...</td>\n",
       "      <td>...</td>\n",
       "      <td>...</td>\n",
       "      <td>...</td>\n",
       "      <td>...</td>\n",
       "      <td>...</td>\n",
       "      <td>...</td>\n",
       "      <td>...</td>\n",
       "      <td>...</td>\n",
       "      <td>...</td>\n",
       "    </tr>\n",
       "    <tr>\n",
       "      <td>29367</td>\n",
       "      <td>2018-08-31</td>\n",
       "      <td>RS</td>\n",
       "      <td>6637353</td>\n",
       "      <td>633064386463376</td>\n",
       "      <td>346433376135623</td>\n",
       "      <td>1</td>\n",
       "      <td>129.0</td>\n",
       "      <td>6.439626e+19</td>\n",
       "      <td>129.0</td>\n",
       "      <td>Friday</td>\n",
       "    </tr>\n",
       "    <tr>\n",
       "      <td>29368</td>\n",
       "      <td>2018-08-31</td>\n",
       "      <td>RS</td>\n",
       "      <td>6637353</td>\n",
       "      <td>633064386463376</td>\n",
       "      <td>633239313036316</td>\n",
       "      <td>1</td>\n",
       "      <td>138.0</td>\n",
       "      <td>6.439626e+19</td>\n",
       "      <td>138.0</td>\n",
       "      <td>Friday</td>\n",
       "    </tr>\n",
       "    <tr>\n",
       "      <td>29369</td>\n",
       "      <td>2018-08-31</td>\n",
       "      <td>RS</td>\n",
       "      <td>6637353</td>\n",
       "      <td>393832393138626</td>\n",
       "      <td>333938616133373</td>\n",
       "      <td>1</td>\n",
       "      <td>149.0</td>\n",
       "      <td>6.632647e+19</td>\n",
       "      <td>149.0</td>\n",
       "      <td>Friday</td>\n",
       "    </tr>\n",
       "    <tr>\n",
       "      <td>29370</td>\n",
       "      <td>2018-08-31</td>\n",
       "      <td>RS</td>\n",
       "      <td>6637353</td>\n",
       "      <td>393832393138626</td>\n",
       "      <td>366337303963646</td>\n",
       "      <td>1</td>\n",
       "      <td>109.0</td>\n",
       "      <td>6.632647e+19</td>\n",
       "      <td>109.0</td>\n",
       "      <td>Friday</td>\n",
       "    </tr>\n",
       "    <tr>\n",
       "      <td>29371</td>\n",
       "      <td>2018-08-31</td>\n",
       "      <td>RS</td>\n",
       "      <td>6637353</td>\n",
       "      <td>393832393138626</td>\n",
       "      <td>393961643766636</td>\n",
       "      <td>1</td>\n",
       "      <td>134.5</td>\n",
       "      <td>6.632647e+19</td>\n",
       "      <td>134.5</td>\n",
       "      <td>Friday</td>\n",
       "    </tr>\n",
       "  </tbody>\n",
       "</table>\n",
       "<p>29372 rows × 10 columns</p>\n",
       "</div>"
      ],
      "text/plain": [
       "            date state  store_id          sale_id   off_product_id  quantity  \\\n",
       "0     2018-08-01    RN   3162633  323932636465316  643839313230323         1   \n",
       "1     2018-08-01    RN   3162633  326463633336323  613665646663346         1   \n",
       "2     2018-08-01    RN   3162633  333331346330323  343739666265353         1   \n",
       "3     2018-08-01    RN   3162633  393461383633336  373034633762613         1   \n",
       "4     2018-08-01    RN   3162633  616531626536373  343634373062363         1   \n",
       "...          ...   ...       ...              ...              ...       ...   \n",
       "29367 2018-08-31    RS   6637353  633064386463376  346433376135623         1   \n",
       "29368 2018-08-31    RS   6637353  633064386463376  633239313036316         1   \n",
       "29369 2018-08-31    RS   6637353  393832393138626  333938616133373         1   \n",
       "29370 2018-08-31    RS   6637353  393832393138626  366337303963646         1   \n",
       "29371 2018-08-31    RS   6637353  393832393138626  393961643766636         1   \n",
       "\n",
       "       price   customer_id  total    weekday  \n",
       "0      279.0           NaN  279.0  Wednesday  \n",
       "1      229.0           NaN  229.0  Wednesday  \n",
       "2      179.0           NaN  179.0  Wednesday  \n",
       "3      269.0           NaN  269.0  Wednesday  \n",
       "4       29.0           NaN   29.0  Wednesday  \n",
       "...      ...           ...    ...        ...  \n",
       "29367  129.0  6.439626e+19  129.0     Friday  \n",
       "29368  138.0  6.439626e+19  138.0     Friday  \n",
       "29369  149.0  6.632647e+19  149.0     Friday  \n",
       "29370  109.0  6.632647e+19  109.0     Friday  \n",
       "29371  134.5  6.632647e+19  134.5     Friday  \n",
       "\n",
       "[29372 rows x 10 columns]"
      ]
     },
     "execution_count": 25,
     "metadata": {},
     "output_type": "execute_result"
    }
   ],
   "source": [
    "offline_copy['weekday'] = offline_copy['date'].dt.day_name()\n",
    "offline_copy"
   ]
  },
  {
   "cell_type": "markdown",
   "metadata": {},
   "source": [
    "Filtrando state por \"RJ\" e deletando colunas que não são necessárias para a análise."
   ]
  },
  {
   "cell_type": "code",
   "execution_count": 26,
   "metadata": {},
   "outputs": [],
   "source": [
    "offline_rj = offline_copy.copy()"
   ]
  },
  {
   "cell_type": "code",
   "execution_count": 27,
   "metadata": {},
   "outputs": [
    {
     "data": {
      "text/html": [
       "<div>\n",
       "<style scoped>\n",
       "    .dataframe tbody tr th:only-of-type {\n",
       "        vertical-align: middle;\n",
       "    }\n",
       "\n",
       "    .dataframe tbody tr th {\n",
       "        vertical-align: top;\n",
       "    }\n",
       "\n",
       "    .dataframe thead th {\n",
       "        text-align: right;\n",
       "    }\n",
       "</style>\n",
       "<table border=\"1\" class=\"dataframe\">\n",
       "  <thead>\n",
       "    <tr style=\"text-align: right;\">\n",
       "      <th></th>\n",
       "      <th>date</th>\n",
       "      <th>state</th>\n",
       "      <th>store_id</th>\n",
       "      <th>sale_id</th>\n",
       "      <th>off_product_id</th>\n",
       "      <th>quantity</th>\n",
       "      <th>price</th>\n",
       "      <th>customer_id</th>\n",
       "      <th>total</th>\n",
       "      <th>weekday</th>\n",
       "    </tr>\n",
       "  </thead>\n",
       "  <tbody>\n",
       "    <tr>\n",
       "      <td>35</td>\n",
       "      <td>2018-08-01</td>\n",
       "      <td>RJ</td>\n",
       "      <td>3166353</td>\n",
       "      <td>666332643165663</td>\n",
       "      <td>336630353735346</td>\n",
       "      <td>1</td>\n",
       "      <td>99.00</td>\n",
       "      <td>3.436306e+19</td>\n",
       "      <td>99.00</td>\n",
       "      <td>Wednesday</td>\n",
       "    </tr>\n",
       "    <tr>\n",
       "      <td>36</td>\n",
       "      <td>2018-08-01</td>\n",
       "      <td>RJ</td>\n",
       "      <td>3166353</td>\n",
       "      <td>666332643165663</td>\n",
       "      <td>633066643833303</td>\n",
       "      <td>1</td>\n",
       "      <td>179.00</td>\n",
       "      <td>3.436306e+19</td>\n",
       "      <td>179.00</td>\n",
       "      <td>Wednesday</td>\n",
       "    </tr>\n",
       "    <tr>\n",
       "      <td>37</td>\n",
       "      <td>2018-08-01</td>\n",
       "      <td>RJ</td>\n",
       "      <td>3166353</td>\n",
       "      <td>616337623366613</td>\n",
       "      <td>666438663166313</td>\n",
       "      <td>1</td>\n",
       "      <td>395.78</td>\n",
       "      <td>3.531663e+19</td>\n",
       "      <td>395.78</td>\n",
       "      <td>Wednesday</td>\n",
       "    </tr>\n",
       "    <tr>\n",
       "      <td>38</td>\n",
       "      <td>2018-08-01</td>\n",
       "      <td>RJ</td>\n",
       "      <td>3166353</td>\n",
       "      <td>343834643430623</td>\n",
       "      <td>633162653438393</td>\n",
       "      <td>1</td>\n",
       "      <td>249.00</td>\n",
       "      <td>3.566374e+19</td>\n",
       "      <td>249.00</td>\n",
       "      <td>Wednesday</td>\n",
       "    </tr>\n",
       "    <tr>\n",
       "      <td>39</td>\n",
       "      <td>2018-08-01</td>\n",
       "      <td>RJ</td>\n",
       "      <td>3166353</td>\n",
       "      <td>626234316564303</td>\n",
       "      <td>396364633232663</td>\n",
       "      <td>1</td>\n",
       "      <td>299.00</td>\n",
       "      <td>3.632356e+19</td>\n",
       "      <td>299.00</td>\n",
       "      <td>Wednesday</td>\n",
       "    </tr>\n",
       "    <tr>\n",
       "      <td>...</td>\n",
       "      <td>...</td>\n",
       "      <td>...</td>\n",
       "      <td>...</td>\n",
       "      <td>...</td>\n",
       "      <td>...</td>\n",
       "      <td>...</td>\n",
       "      <td>...</td>\n",
       "      <td>...</td>\n",
       "      <td>...</td>\n",
       "      <td>...</td>\n",
       "    </tr>\n",
       "    <tr>\n",
       "      <td>29356</td>\n",
       "      <td>2018-08-31</td>\n",
       "      <td>RJ</td>\n",
       "      <td>6635613</td>\n",
       "      <td>323265353634656</td>\n",
       "      <td>623033383065356</td>\n",
       "      <td>1</td>\n",
       "      <td>798.00</td>\n",
       "      <td>6.633613e+19</td>\n",
       "      <td>798.00</td>\n",
       "      <td>Friday</td>\n",
       "    </tr>\n",
       "    <tr>\n",
       "      <td>29357</td>\n",
       "      <td>2018-08-31</td>\n",
       "      <td>RJ</td>\n",
       "      <td>6635613</td>\n",
       "      <td>323265353634656</td>\n",
       "      <td>663666383731653</td>\n",
       "      <td>1</td>\n",
       "      <td>798.00</td>\n",
       "      <td>6.633613e+19</td>\n",
       "      <td>798.00</td>\n",
       "      <td>Friday</td>\n",
       "    </tr>\n",
       "    <tr>\n",
       "      <td>29358</td>\n",
       "      <td>2018-08-31</td>\n",
       "      <td>RJ</td>\n",
       "      <td>6635613</td>\n",
       "      <td>323662376535316</td>\n",
       "      <td>363364323236313</td>\n",
       "      <td>1</td>\n",
       "      <td>538.00</td>\n",
       "      <td>6.633613e+19</td>\n",
       "      <td>538.00</td>\n",
       "      <td>Friday</td>\n",
       "    </tr>\n",
       "    <tr>\n",
       "      <td>29359</td>\n",
       "      <td>2018-08-31</td>\n",
       "      <td>RJ</td>\n",
       "      <td>6635613</td>\n",
       "      <td>323662376535316</td>\n",
       "      <td>623033383065356</td>\n",
       "      <td>1</td>\n",
       "      <td>798.00</td>\n",
       "      <td>6.633613e+19</td>\n",
       "      <td>798.00</td>\n",
       "      <td>Friday</td>\n",
       "    </tr>\n",
       "    <tr>\n",
       "      <td>29360</td>\n",
       "      <td>2018-08-31</td>\n",
       "      <td>RJ</td>\n",
       "      <td>6635613</td>\n",
       "      <td>323662376535316</td>\n",
       "      <td>663666383731653</td>\n",
       "      <td>1</td>\n",
       "      <td>798.00</td>\n",
       "      <td>6.633613e+19</td>\n",
       "      <td>798.00</td>\n",
       "      <td>Friday</td>\n",
       "    </tr>\n",
       "  </tbody>\n",
       "</table>\n",
       "<p>8867 rows × 10 columns</p>\n",
       "</div>"
      ],
      "text/plain": [
       "            date state  store_id          sale_id   off_product_id  quantity  \\\n",
       "35    2018-08-01    RJ   3166353  666332643165663  336630353735346         1   \n",
       "36    2018-08-01    RJ   3166353  666332643165663  633066643833303         1   \n",
       "37    2018-08-01    RJ   3166353  616337623366613  666438663166313         1   \n",
       "38    2018-08-01    RJ   3166353  343834643430623  633162653438393         1   \n",
       "39    2018-08-01    RJ   3166353  626234316564303  396364633232663         1   \n",
       "...          ...   ...       ...              ...              ...       ...   \n",
       "29356 2018-08-31    RJ   6635613  323265353634656  623033383065356         1   \n",
       "29357 2018-08-31    RJ   6635613  323265353634656  663666383731653         1   \n",
       "29358 2018-08-31    RJ   6635613  323662376535316  363364323236313         1   \n",
       "29359 2018-08-31    RJ   6635613  323662376535316  623033383065356         1   \n",
       "29360 2018-08-31    RJ   6635613  323662376535316  663666383731653         1   \n",
       "\n",
       "        price   customer_id   total    weekday  \n",
       "35      99.00  3.436306e+19   99.00  Wednesday  \n",
       "36     179.00  3.436306e+19  179.00  Wednesday  \n",
       "37     395.78  3.531663e+19  395.78  Wednesday  \n",
       "38     249.00  3.566374e+19  249.00  Wednesday  \n",
       "39     299.00  3.632356e+19  299.00  Wednesday  \n",
       "...       ...           ...     ...        ...  \n",
       "29356  798.00  6.633613e+19  798.00     Friday  \n",
       "29357  798.00  6.633613e+19  798.00     Friday  \n",
       "29358  538.00  6.633613e+19  538.00     Friday  \n",
       "29359  798.00  6.633613e+19  798.00     Friday  \n",
       "29360  798.00  6.633613e+19  798.00     Friday  \n",
       "\n",
       "[8867 rows x 10 columns]"
      ]
     },
     "execution_count": 27,
     "metadata": {},
     "output_type": "execute_result"
    }
   ],
   "source": [
    "offline_rj = offline_rj[(offline_rj['state'] == 'RJ')]\n",
    "offline_rj"
   ]
  },
  {
   "cell_type": "code",
   "execution_count": 28,
   "metadata": {},
   "outputs": [],
   "source": [
    "offline_rj = offline_rj.drop([\"date\", \"store_id\", \"off_product_id\", \"quantity\", \"price\", \"customer_id\", \"total\"], axis=1)"
   ]
  },
  {
   "cell_type": "markdown",
   "metadata": {},
   "source": [
    "Deixando apenas sale_id únicos."
   ]
  },
  {
   "cell_type": "code",
   "execution_count": 29,
   "metadata": {},
   "outputs": [
    {
     "data": {
      "text/plain": [
       "323066343637353    34\n",
       "336666366230343    33\n",
       "616632353738303    20\n",
       "613963616435656    18\n",
       "376436616630373    18\n",
       "                   ..\n",
       "393265636661366     1\n",
       "356332643165333     1\n",
       "386230363065663     1\n",
       "663439343566633     1\n",
       "393731326536333     1\n",
       "Name: sale_id, Length: 4401, dtype: int64"
      ]
     },
     "execution_count": 29,
     "metadata": {},
     "output_type": "execute_result"
    }
   ],
   "source": [
    "offline_rj['sale_id'].value_counts()"
   ]
  },
  {
   "cell_type": "code",
   "execution_count": 30,
   "metadata": {},
   "outputs": [
    {
     "data": {
      "text/html": [
       "<div>\n",
       "<style scoped>\n",
       "    .dataframe tbody tr th:only-of-type {\n",
       "        vertical-align: middle;\n",
       "    }\n",
       "\n",
       "    .dataframe tbody tr th {\n",
       "        vertical-align: top;\n",
       "    }\n",
       "\n",
       "    .dataframe thead th {\n",
       "        text-align: right;\n",
       "    }\n",
       "</style>\n",
       "<table border=\"1\" class=\"dataframe\">\n",
       "  <thead>\n",
       "    <tr style=\"text-align: right;\">\n",
       "      <th></th>\n",
       "      <th>state</th>\n",
       "      <th>sale_id</th>\n",
       "      <th>weekday</th>\n",
       "    </tr>\n",
       "  </thead>\n",
       "  <tbody>\n",
       "    <tr>\n",
       "      <td>35</td>\n",
       "      <td>RJ</td>\n",
       "      <td>666332643165663</td>\n",
       "      <td>Wednesday</td>\n",
       "    </tr>\n",
       "    <tr>\n",
       "      <td>37</td>\n",
       "      <td>RJ</td>\n",
       "      <td>616337623366613</td>\n",
       "      <td>Wednesday</td>\n",
       "    </tr>\n",
       "    <tr>\n",
       "      <td>38</td>\n",
       "      <td>RJ</td>\n",
       "      <td>343834643430623</td>\n",
       "      <td>Wednesday</td>\n",
       "    </tr>\n",
       "    <tr>\n",
       "      <td>39</td>\n",
       "      <td>RJ</td>\n",
       "      <td>626234316564303</td>\n",
       "      <td>Wednesday</td>\n",
       "    </tr>\n",
       "    <tr>\n",
       "      <td>40</td>\n",
       "      <td>RJ</td>\n",
       "      <td>663065663766386</td>\n",
       "      <td>Wednesday</td>\n",
       "    </tr>\n",
       "    <tr>\n",
       "      <td>...</td>\n",
       "      <td>...</td>\n",
       "      <td>...</td>\n",
       "      <td>...</td>\n",
       "    </tr>\n",
       "    <tr>\n",
       "      <td>29351</td>\n",
       "      <td>RJ</td>\n",
       "      <td>393538323564373</td>\n",
       "      <td>Friday</td>\n",
       "    </tr>\n",
       "    <tr>\n",
       "      <td>29353</td>\n",
       "      <td>RJ</td>\n",
       "      <td>666266383238376</td>\n",
       "      <td>Friday</td>\n",
       "    </tr>\n",
       "    <tr>\n",
       "      <td>29354</td>\n",
       "      <td>RJ</td>\n",
       "      <td>623034666137643</td>\n",
       "      <td>Friday</td>\n",
       "    </tr>\n",
       "    <tr>\n",
       "      <td>29355</td>\n",
       "      <td>RJ</td>\n",
       "      <td>323265353634656</td>\n",
       "      <td>Friday</td>\n",
       "    </tr>\n",
       "    <tr>\n",
       "      <td>29358</td>\n",
       "      <td>RJ</td>\n",
       "      <td>323662376535316</td>\n",
       "      <td>Friday</td>\n",
       "    </tr>\n",
       "  </tbody>\n",
       "</table>\n",
       "<p>4401 rows × 3 columns</p>\n",
       "</div>"
      ],
      "text/plain": [
       "      state          sale_id    weekday\n",
       "35       RJ  666332643165663  Wednesday\n",
       "37       RJ  616337623366613  Wednesday\n",
       "38       RJ  343834643430623  Wednesday\n",
       "39       RJ  626234316564303  Wednesday\n",
       "40       RJ  663065663766386  Wednesday\n",
       "...     ...              ...        ...\n",
       "29351    RJ  393538323564373     Friday\n",
       "29353    RJ  666266383238376     Friday\n",
       "29354    RJ  623034666137643     Friday\n",
       "29355    RJ  323265353634656     Friday\n",
       "29358    RJ  323662376535316     Friday\n",
       "\n",
       "[4401 rows x 3 columns]"
      ]
     },
     "execution_count": 30,
     "metadata": {},
     "output_type": "execute_result"
    }
   ],
   "source": [
    "offline_rj = offline_rj.drop_duplicates(subset=['sale_id'], keep='first')\n",
    "offline_rj"
   ]
  },
  {
   "cell_type": "markdown",
   "metadata": {},
   "source": [
    "Contabilizado quantas vendas foram feitas por dia da semana e calculando total da semana, final e médias."
   ]
  },
  {
   "cell_type": "code",
   "execution_count": 31,
   "metadata": {},
   "outputs": [
    {
     "data": {
      "text/plain": [
       "Friday       899\n",
       "Thursday     849\n",
       "Wednesday    746\n",
       "Saturday     725\n",
       "Tuesday      579\n",
       "Monday       441\n",
       "Sunday       162\n",
       "Name: weekday, dtype: int64"
      ]
     },
     "execution_count": 31,
     "metadata": {},
     "output_type": "execute_result"
    }
   ],
   "source": [
    "offline_rj['weekday'].value_counts()"
   ]
  },
  {
   "cell_type": "code",
   "execution_count": 32,
   "metadata": {},
   "outputs": [
    {
     "name": "stdout",
     "output_type": "stream",
     "text": [
      "3514 887 702.8 443.5 63.10472396129767\n"
     ]
    }
   ],
   "source": [
    "total_semana = 899 + 849 + 746 + 579 + 441\n",
    "total_fim = 725 + 162\n",
    "media_semana = total_semana / 5\n",
    "media_fim = total_fim / 2\n",
    "porcentagem_semana_fim = media_fim / media_semana * 100\n",
    "print(total_semana, total_fim, media_semana, media_fim, porcentagem_semana_fim)"
   ]
  },
  {
   "cell_type": "code",
   "execution_count": 33,
   "metadata": {},
   "outputs": [
    {
     "data": {
      "image/png": "[encoded data removed]",
      "text/plain": [
       "<Figure size 432x288 with 1 Axes>"
      ]
     },
     "metadata": {
      "needs_background": "light"
     },
     "output_type": "display_data"
    }
   ],
   "source": [
    "vendas_rj = [441, 579, 746, 849, 899, 725, 162]\n",
    "dias_semana = ['Segunda', 'Terça', 'Quarta', 'Quinta', 'Sexta', 'Sábado', 'Domingo']\n",
    "plt.plot(dias_semana, vendas_rj, marker='o')\n",
    "plt.ylabel('Vendas')\n",
    "plt.title('Evolução de vendas nos dias da semana no RJ')\n",
    "plt.show()"
   ]
  },
  {
   "cell_type": "raw",
   "metadata": {},
   "source": [
    "Para a pergunta 4 \"É comum escolher online e terminar na loja física?\" verificarei os customer_id que são iguais entre o dataframe de online_pageviews e offline. Antes disso, é preciso verificar se existem customer_id em comum entre o pageviews e onlineorders (uma vez que podem ter terminado a compra do pageviews), deletando os iguais da análise posterior entre pageviews e offline. Essa é uma das simplificações realizadas para esta análise. A etapa que eu gostaria de fazer mas não consegui seria a de fazer uma verificação das datas, por exemplo: apenas contabilizar uma \"visualização online e compra na loja física\" caso a pageview tenha data menor que a do offline.\n",
    "\n",
    "Filtrando dados desnecessários para a análise."
   ]
  },
  {
   "cell_type": "code",
   "execution_count": 34,
   "metadata": {},
   "outputs": [
    {
     "data": {
      "text/html": [
       "<div>\n",
       "<style scoped>\n",
       "    .dataframe tbody tr th:only-of-type {\n",
       "        vertical-align: middle;\n",
       "    }\n",
       "\n",
       "    .dataframe tbody tr th {\n",
       "        vertical-align: top;\n",
       "    }\n",
       "\n",
       "    .dataframe thead th {\n",
       "        text-align: right;\n",
       "    }\n",
       "</style>\n",
       "<table border=\"1\" class=\"dataframe\">\n",
       "  <thead>\n",
       "    <tr style=\"text-align: right;\">\n",
       "      <th></th>\n",
       "      <th>date</th>\n",
       "      <th>pageType</th>\n",
       "      <th>customer_id</th>\n",
       "    </tr>\n",
       "  </thead>\n",
       "  <tbody>\n",
       "    <tr>\n",
       "      <td>0</td>\n",
       "      <td>2018-08-01</td>\n",
       "      <td>home</td>\n",
       "      <td>NaN</td>\n",
       "    </tr>\n",
       "    <tr>\n",
       "      <td>1</td>\n",
       "      <td>2018-08-01</td>\n",
       "      <td>landing_page</td>\n",
       "      <td>NaN</td>\n",
       "    </tr>\n",
       "    <tr>\n",
       "      <td>2</td>\n",
       "      <td>2018-08-01</td>\n",
       "      <td>subcategory</td>\n",
       "      <td>NaN</td>\n",
       "    </tr>\n",
       "    <tr>\n",
       "      <td>3</td>\n",
       "      <td>2018-08-01</td>\n",
       "      <td>subcategory</td>\n",
       "      <td>NaN</td>\n",
       "    </tr>\n",
       "    <tr>\n",
       "      <td>4</td>\n",
       "      <td>2018-08-01</td>\n",
       "      <td>landing_page</td>\n",
       "      <td>NaN</td>\n",
       "    </tr>\n",
       "    <tr>\n",
       "      <td>...</td>\n",
       "      <td>...</td>\n",
       "      <td>...</td>\n",
       "      <td>...</td>\n",
       "    </tr>\n",
       "    <tr>\n",
       "      <td>3452535</td>\n",
       "      <td>2018-08-31</td>\n",
       "      <td>product</td>\n",
       "      <td>NaN</td>\n",
       "    </tr>\n",
       "    <tr>\n",
       "      <td>3452536</td>\n",
       "      <td>2018-08-31</td>\n",
       "      <td>subcategory</td>\n",
       "      <td>NaN</td>\n",
       "    </tr>\n",
       "    <tr>\n",
       "      <td>3452537</td>\n",
       "      <td>2018-08-31</td>\n",
       "      <td>subcategory</td>\n",
       "      <td>NaN</td>\n",
       "    </tr>\n",
       "    <tr>\n",
       "      <td>3452538</td>\n",
       "      <td>2018-08-31</td>\n",
       "      <td>subcategory</td>\n",
       "      <td>NaN</td>\n",
       "    </tr>\n",
       "    <tr>\n",
       "      <td>3452539</td>\n",
       "      <td>2018-08-31</td>\n",
       "      <td>product</td>\n",
       "      <td>NaN</td>\n",
       "    </tr>\n",
       "  </tbody>\n",
       "</table>\n",
       "<p>3452540 rows × 3 columns</p>\n",
       "</div>"
      ],
      "text/plain": [
       "              date      pageType  customer_id\n",
       "0       2018-08-01          home          NaN\n",
       "1       2018-08-01  landing_page          NaN\n",
       "2       2018-08-01   subcategory          NaN\n",
       "3       2018-08-01   subcategory          NaN\n",
       "4       2018-08-01  landing_page          NaN\n",
       "...            ...           ...          ...\n",
       "3452535 2018-08-31       product          NaN\n",
       "3452536 2018-08-31   subcategory          NaN\n",
       "3452537 2018-08-31   subcategory          NaN\n",
       "3452538 2018-08-31   subcategory          NaN\n",
       "3452539 2018-08-31       product          NaN\n",
       "\n",
       "[3452540 rows x 3 columns]"
      ]
     },
     "execution_count": 34,
     "metadata": {},
     "output_type": "execute_result"
    }
   ],
   "source": [
    "pageviews_filter = onlinepageviews_copy.drop([\"visitor_id\", \"deviceType\", \"category_id\", \"on_product_id\"], axis=1)\n",
    "pageviews_filter"
   ]
  },
  {
   "cell_type": "markdown",
   "metadata": {},
   "source": [
    "Deletando customer_id = NaN"
   ]
  },
  {
   "cell_type": "code",
   "execution_count": 35,
   "metadata": {},
   "outputs": [
    {
     "data": {
      "text/html": [
       "<div>\n",
       "<style scoped>\n",
       "    .dataframe tbody tr th:only-of-type {\n",
       "        vertical-align: middle;\n",
       "    }\n",
       "\n",
       "    .dataframe tbody tr th {\n",
       "        vertical-align: top;\n",
       "    }\n",
       "\n",
       "    .dataframe thead th {\n",
       "        text-align: right;\n",
       "    }\n",
       "</style>\n",
       "<table border=\"1\" class=\"dataframe\">\n",
       "  <thead>\n",
       "    <tr style=\"text-align: right;\">\n",
       "      <th></th>\n",
       "      <th>date</th>\n",
       "      <th>pageType</th>\n",
       "      <th>customer_id</th>\n",
       "    </tr>\n",
       "  </thead>\n",
       "  <tbody>\n",
       "    <tr>\n",
       "      <td>105</td>\n",
       "      <td>2018-08-01</td>\n",
       "      <td>product</td>\n",
       "      <td>3.334316e+19</td>\n",
       "    </tr>\n",
       "    <tr>\n",
       "      <td>234</td>\n",
       "      <td>2018-08-01</td>\n",
       "      <td>product</td>\n",
       "      <td>3.235393e+19</td>\n",
       "    </tr>\n",
       "    <tr>\n",
       "      <td>268</td>\n",
       "      <td>2018-08-01</td>\n",
       "      <td>cart</td>\n",
       "      <td>3.765363e+19</td>\n",
       "    </tr>\n",
       "    <tr>\n",
       "      <td>282</td>\n",
       "      <td>2018-08-01</td>\n",
       "      <td>landing_page</td>\n",
       "      <td>3.165624e+19</td>\n",
       "    </tr>\n",
       "    <tr>\n",
       "      <td>353</td>\n",
       "      <td>2018-08-01</td>\n",
       "      <td>landing_page</td>\n",
       "      <td>3.635314e+19</td>\n",
       "    </tr>\n",
       "    <tr>\n",
       "      <td>...</td>\n",
       "      <td>...</td>\n",
       "      <td>...</td>\n",
       "      <td>...</td>\n",
       "    </tr>\n",
       "    <tr>\n",
       "      <td>3452466</td>\n",
       "      <td>2018-08-31</td>\n",
       "      <td>product</td>\n",
       "      <td>6.533327e+19</td>\n",
       "    </tr>\n",
       "    <tr>\n",
       "      <td>3452468</td>\n",
       "      <td>2018-08-31</td>\n",
       "      <td>subcategory</td>\n",
       "      <td>6.364394e+19</td>\n",
       "    </tr>\n",
       "    <tr>\n",
       "      <td>3452479</td>\n",
       "      <td>2018-08-31</td>\n",
       "      <td>subcategory</td>\n",
       "      <td>3.932384e+19</td>\n",
       "    </tr>\n",
       "    <tr>\n",
       "      <td>3452482</td>\n",
       "      <td>2018-08-31</td>\n",
       "      <td>subcategory</td>\n",
       "      <td>6.363656e+19</td>\n",
       "    </tr>\n",
       "    <tr>\n",
       "      <td>3452492</td>\n",
       "      <td>2018-08-31</td>\n",
       "      <td>category</td>\n",
       "      <td>3.762334e+19</td>\n",
       "    </tr>\n",
       "  </tbody>\n",
       "</table>\n",
       "<p>80765 rows × 3 columns</p>\n",
       "</div>"
      ],
      "text/plain": [
       "              date      pageType   customer_id\n",
       "105     2018-08-01       product  3.334316e+19\n",
       "234     2018-08-01       product  3.235393e+19\n",
       "268     2018-08-01          cart  3.765363e+19\n",
       "282     2018-08-01  landing_page  3.165624e+19\n",
       "353     2018-08-01  landing_page  3.635314e+19\n",
       "...            ...           ...           ...\n",
       "3452466 2018-08-31       product  6.533327e+19\n",
       "3452468 2018-08-31   subcategory  6.364394e+19\n",
       "3452479 2018-08-31   subcategory  3.932384e+19\n",
       "3452482 2018-08-31   subcategory  6.363656e+19\n",
       "3452492 2018-08-31      category  3.762334e+19\n",
       "\n",
       "[80765 rows x 3 columns]"
      ]
     },
     "execution_count": 35,
     "metadata": {},
     "output_type": "execute_result"
    }
   ],
   "source": [
    "pageviews_filter = pageviews_filter.dropna()\n",
    "pageviews_filter"
   ]
  },
  {
   "cell_type": "markdown",
   "metadata": {},
   "source": [
    "Value_counts() na coluna pageType."
   ]
  },
  {
   "cell_type": "code",
   "execution_count": 36,
   "metadata": {},
   "outputs": [
    {
     "data": {
      "text/plain": [
       "product         21151\n",
       "subcategory     16626\n",
       "checkout         8885\n",
       "home             7501\n",
       "other            6642\n",
       "confirmation     5057\n",
       "category         4530\n",
       "landing_page     3918\n",
       "cart             2495\n",
       "userprofile      1677\n",
       "search           1166\n",
       "emptysearch       698\n",
       "not_found         419\n",
       "Name: pageType, dtype: int64"
      ]
     },
     "execution_count": 36,
     "metadata": {},
     "output_type": "execute_result"
    }
   ],
   "source": [
    "pageviews_filter['pageType'].value_counts()"
   ]
  },
  {
   "cell_type": "markdown",
   "metadata": {},
   "source": [
    "Filtrando \"pageType\" que são \"product\", \"checkout\" ou \"cart\"."
   ]
  },
  {
   "cell_type": "code",
   "execution_count": 37,
   "metadata": {},
   "outputs": [
    {
     "data": {
      "text/plain": [
       "6.362326e+19    1122\n",
       "6.334624e+19     981\n",
       "3.965644e+19     895\n",
       "6.261636e+19     584\n",
       "6.534324e+19     527\n",
       "                ... \n",
       "3.333374e+19       1\n",
       "3.733396e+19       1\n",
       "3.039363e+19       1\n",
       "3.831654e+19       1\n",
       "6.636377e+19       1\n",
       "Name: customer_id, Length: 5913, dtype: int64"
      ]
     },
     "execution_count": 37,
     "metadata": {},
     "output_type": "execute_result"
    }
   ],
   "source": [
    "pageviews_filter['customer_id'].value_counts()"
   ]
  },
  {
   "cell_type": "markdown",
   "metadata": {},
   "source": [
    "Deixar apenas valores únicos na coluna customer_id."
   ]
  },
  {
   "cell_type": "code",
   "execution_count": 38,
   "metadata": {},
   "outputs": [],
   "source": [
    "pageviews_filter = pageviews_filter.drop_duplicates(subset=['customer_id'], keep='first')"
   ]
  },
  {
   "cell_type": "markdown",
   "metadata": {},
   "source": [
    "O mesmo precisa ser feito para o onlineorders."
   ]
  },
  {
   "cell_type": "code",
   "execution_count": 39,
   "metadata": {},
   "outputs": [],
   "source": [
    "onlineorders_uniquecustomer = onlineorders_copy.drop_duplicates(subset=['customer_id'], keep='first')"
   ]
  },
  {
   "cell_type": "markdown",
   "metadata": {},
   "source": [
    "Irei deixar apenas as colunas de customer_id nos dataframes e esses serão os passos dados a seguir. Outro passo será retirar os NaN do \"customer_id\" do online_orders."
   ]
  },
  {
   "cell_type": "code",
   "execution_count": 40,
   "metadata": {},
   "outputs": [],
   "source": [
    "pageviews_filter = pageviews_filter.drop([\"date\", \"pageType\"], axis=1)\n",
    "onlineorders_uniquecustomer = onlineorders_uniquecustomer.drop([\"date\", \"visitor_id\", \"deviceType\", \"order_id\", \"on_product_id\", \"quantity\", \"price\", \"total\"], axis=1)"
   ]
  },
  {
   "cell_type": "code",
   "execution_count": 41,
   "metadata": {},
   "outputs": [],
   "source": [
    "onlineorders_uniquecustomer = onlineorders_uniquecustomer.dropna()"
   ]
  },
  {
   "cell_type": "code",
   "execution_count": 42,
   "metadata": {},
   "outputs": [
    {
     "data": {
      "text/html": [
       "<div>\n",
       "<style scoped>\n",
       "    .dataframe tbody tr th:only-of-type {\n",
       "        vertical-align: middle;\n",
       "    }\n",
       "\n",
       "    .dataframe tbody tr th {\n",
       "        vertical-align: top;\n",
       "    }\n",
       "\n",
       "    .dataframe thead th {\n",
       "        text-align: right;\n",
       "    }\n",
       "</style>\n",
       "<table border=\"1\" class=\"dataframe\">\n",
       "  <thead>\n",
       "    <tr style=\"text-align: right;\">\n",
       "      <th></th>\n",
       "      <th>customer_id</th>\n",
       "      <th>_merge</th>\n",
       "    </tr>\n",
       "  </thead>\n",
       "  <tbody>\n",
       "    <tr>\n",
       "      <td>0</td>\n",
       "      <td>3.334316e+19</td>\n",
       "      <td>left_only</td>\n",
       "    </tr>\n",
       "    <tr>\n",
       "      <td>1</td>\n",
       "      <td>3.235393e+19</td>\n",
       "      <td>both</td>\n",
       "    </tr>\n",
       "    <tr>\n",
       "      <td>2</td>\n",
       "      <td>3.765363e+19</td>\n",
       "      <td>both</td>\n",
       "    </tr>\n",
       "    <tr>\n",
       "      <td>3</td>\n",
       "      <td>3.165624e+19</td>\n",
       "      <td>left_only</td>\n",
       "    </tr>\n",
       "    <tr>\n",
       "      <td>4</td>\n",
       "      <td>3.635314e+19</td>\n",
       "      <td>both</td>\n",
       "    </tr>\n",
       "    <tr>\n",
       "      <td>...</td>\n",
       "      <td>...</td>\n",
       "      <td>...</td>\n",
       "    </tr>\n",
       "    <tr>\n",
       "      <td>5908</td>\n",
       "      <td>3.330306e+19</td>\n",
       "      <td>left_only</td>\n",
       "    </tr>\n",
       "    <tr>\n",
       "      <td>5909</td>\n",
       "      <td>3.766394e+19</td>\n",
       "      <td>both</td>\n",
       "    </tr>\n",
       "    <tr>\n",
       "      <td>5910</td>\n",
       "      <td>6.438627e+19</td>\n",
       "      <td>left_only</td>\n",
       "    </tr>\n",
       "    <tr>\n",
       "      <td>5911</td>\n",
       "      <td>3.330396e+19</td>\n",
       "      <td>left_only</td>\n",
       "    </tr>\n",
       "    <tr>\n",
       "      <td>5912</td>\n",
       "      <td>3.430643e+19</td>\n",
       "      <td>both</td>\n",
       "    </tr>\n",
       "  </tbody>\n",
       "</table>\n",
       "<p>5913 rows × 2 columns</p>\n",
       "</div>"
      ],
      "text/plain": [
       "       customer_id     _merge\n",
       "0     3.334316e+19  left_only\n",
       "1     3.235393e+19       both\n",
       "2     3.765363e+19       both\n",
       "3     3.165624e+19  left_only\n",
       "4     3.635314e+19       both\n",
       "...            ...        ...\n",
       "5908  3.330306e+19  left_only\n",
       "5909  3.766394e+19       both\n",
       "5910  6.438627e+19  left_only\n",
       "5911  3.330396e+19  left_only\n",
       "5912  3.430643e+19       both\n",
       "\n",
       "[5913 rows x 2 columns]"
      ]
     },
     "execution_count": 42,
     "metadata": {},
     "output_type": "execute_result"
    }
   ],
   "source": [
    "dif_pageview_order = pd.merge(pageviews_filter, onlineorders_uniquecustomer, on='customer_id', how='outer', indicator=True)\n",
    "dif_pageview_order"
   ]
  },
  {
   "cell_type": "code",
   "execution_count": 43,
   "metadata": {},
   "outputs": [
    {
     "data": {
      "text/plain": [
       "both          3530\n",
       "left_only     2383\n",
       "right_only       0\n",
       "Name: _merge, dtype: int64"
      ]
     },
     "execution_count": 43,
     "metadata": {},
     "output_type": "execute_result"
    }
   ],
   "source": [
    "dif_pageview_order['_merge'].value_counts()"
   ]
  },
  {
   "cell_type": "markdown",
   "metadata": {},
   "source": [
    "Na coluna merge, as linhas com left_only são as que só aparecem na pageviews e não no onlineorders, sendo que estes customer_id são os necessários para a análise. Desta forma, irei deletar os customer_id com merge diferente de left_only e depois deletar a coluna merge.\n",
    "2383 customers visitaram \"product\", \"checkout\" e \"cart\" e não concluíram a compra (não aparecem em onlineorders). Esse último resultado será analisado juntamente com os valores de customer_id do dataframe offline."
   ]
  },
  {
   "cell_type": "code",
   "execution_count": 44,
   "metadata": {},
   "outputs": [
    {
     "data": {
      "text/html": [
       "<div>\n",
       "<style scoped>\n",
       "    .dataframe tbody tr th:only-of-type {\n",
       "        vertical-align: middle;\n",
       "    }\n",
       "\n",
       "    .dataframe tbody tr th {\n",
       "        vertical-align: top;\n",
       "    }\n",
       "\n",
       "    .dataframe thead th {\n",
       "        text-align: right;\n",
       "    }\n",
       "</style>\n",
       "<table border=\"1\" class=\"dataframe\">\n",
       "  <thead>\n",
       "    <tr style=\"text-align: right;\">\n",
       "      <th></th>\n",
       "      <th>customer_id</th>\n",
       "    </tr>\n",
       "  </thead>\n",
       "  <tbody>\n",
       "    <tr>\n",
       "      <td>0</td>\n",
       "      <td>3.334316e+19</td>\n",
       "    </tr>\n",
       "    <tr>\n",
       "      <td>3</td>\n",
       "      <td>3.165624e+19</td>\n",
       "    </tr>\n",
       "    <tr>\n",
       "      <td>5</td>\n",
       "      <td>6.630394e+19</td>\n",
       "    </tr>\n",
       "    <tr>\n",
       "      <td>6</td>\n",
       "      <td>3.061374e+19</td>\n",
       "    </tr>\n",
       "    <tr>\n",
       "      <td>7</td>\n",
       "      <td>6.433353e+19</td>\n",
       "    </tr>\n",
       "    <tr>\n",
       "      <td>...</td>\n",
       "      <td>...</td>\n",
       "    </tr>\n",
       "    <tr>\n",
       "      <td>5904</td>\n",
       "      <td>3.636616e+19</td>\n",
       "    </tr>\n",
       "    <tr>\n",
       "      <td>5906</td>\n",
       "      <td>6.638317e+19</td>\n",
       "    </tr>\n",
       "    <tr>\n",
       "      <td>5908</td>\n",
       "      <td>3.330306e+19</td>\n",
       "    </tr>\n",
       "    <tr>\n",
       "      <td>5910</td>\n",
       "      <td>6.438627e+19</td>\n",
       "    </tr>\n",
       "    <tr>\n",
       "      <td>5911</td>\n",
       "      <td>3.330396e+19</td>\n",
       "    </tr>\n",
       "  </tbody>\n",
       "</table>\n",
       "<p>2383 rows × 1 columns</p>\n",
       "</div>"
      ],
      "text/plain": [
       "       customer_id\n",
       "0     3.334316e+19\n",
       "3     3.165624e+19\n",
       "5     6.630394e+19\n",
       "6     3.061374e+19\n",
       "7     6.433353e+19\n",
       "...            ...\n",
       "5904  3.636616e+19\n",
       "5906  6.638317e+19\n",
       "5908  3.330306e+19\n",
       "5910  6.438627e+19\n",
       "5911  3.330396e+19\n",
       "\n",
       "[2383 rows x 1 columns]"
      ]
     },
     "execution_count": 44,
     "metadata": {},
     "output_type": "execute_result"
    }
   ],
   "source": [
    "dif_pageview_order = dif_pageview_order[(dif_pageview_order['_merge'] == 'left_only')]\n",
    "dif_pageview_order = dif_pageview_order.drop(['_merge'], axis=1)\n",
    "dif_pageview_order"
   ]
  },
  {
   "cell_type": "markdown",
   "metadata": {},
   "source": [
    "Serão realizados os mesmos procedimentos no dataframe do offline, sendo deletados os customer_id como NaN, deletando as colunas que são diferentes de customer_id e também deixando apenas valores únicos na mesma coluna."
   ]
  },
  {
   "cell_type": "code",
   "execution_count": 45,
   "metadata": {},
   "outputs": [
    {
     "data": {
      "text/html": [
       "<div>\n",
       "<style scoped>\n",
       "    .dataframe tbody tr th:only-of-type {\n",
       "        vertical-align: middle;\n",
       "    }\n",
       "\n",
       "    .dataframe tbody tr th {\n",
       "        vertical-align: top;\n",
       "    }\n",
       "\n",
       "    .dataframe thead th {\n",
       "        text-align: right;\n",
       "    }\n",
       "</style>\n",
       "<table border=\"1\" class=\"dataframe\">\n",
       "  <thead>\n",
       "    <tr style=\"text-align: right;\">\n",
       "      <th></th>\n",
       "      <th>customer_id</th>\n",
       "    </tr>\n",
       "  </thead>\n",
       "  <tbody>\n",
       "    <tr>\n",
       "      <td>7</td>\n",
       "      <td>3.037393e+19</td>\n",
       "    </tr>\n",
       "    <tr>\n",
       "      <td>8</td>\n",
       "      <td>3.039383e+19</td>\n",
       "    </tr>\n",
       "    <tr>\n",
       "      <td>9</td>\n",
       "      <td>3.136626e+19</td>\n",
       "    </tr>\n",
       "    <tr>\n",
       "      <td>10</td>\n",
       "      <td>3.265396e+19</td>\n",
       "    </tr>\n",
       "    <tr>\n",
       "      <td>11</td>\n",
       "      <td>3.465376e+19</td>\n",
       "    </tr>\n",
       "    <tr>\n",
       "      <td>...</td>\n",
       "      <td>...</td>\n",
       "    </tr>\n",
       "    <tr>\n",
       "      <td>29355</td>\n",
       "      <td>6.633613e+19</td>\n",
       "    </tr>\n",
       "    <tr>\n",
       "      <td>29362</td>\n",
       "      <td>3.064644e+19</td>\n",
       "    </tr>\n",
       "    <tr>\n",
       "      <td>29366</td>\n",
       "      <td>3.763626e+19</td>\n",
       "    </tr>\n",
       "    <tr>\n",
       "      <td>29367</td>\n",
       "      <td>6.439626e+19</td>\n",
       "    </tr>\n",
       "    <tr>\n",
       "      <td>29369</td>\n",
       "      <td>6.632647e+19</td>\n",
       "    </tr>\n",
       "  </tbody>\n",
       "</table>\n",
       "<p>9901 rows × 1 columns</p>\n",
       "</div>"
      ],
      "text/plain": [
       "        customer_id\n",
       "7      3.037393e+19\n",
       "8      3.039383e+19\n",
       "9      3.136626e+19\n",
       "10     3.265396e+19\n",
       "11     3.465376e+19\n",
       "...             ...\n",
       "29355  6.633613e+19\n",
       "29362  3.064644e+19\n",
       "29366  3.763626e+19\n",
       "29367  6.439626e+19\n",
       "29369  6.632647e+19\n",
       "\n",
       "[9901 rows x 1 columns]"
      ]
     },
     "execution_count": 45,
     "metadata": {},
     "output_type": "execute_result"
    }
   ],
   "source": [
    "offline_customer = offline_copy.drop([\"date\", \"state\", \"store_id\", \"sale_id\", \"off_product_id\", \"quantity\", \"price\", \"total\", \"weekday\"], axis=1)\n",
    "offline_customer = offline_customer.dropna()\n",
    "offline_customer = offline_customer.drop_duplicates(subset=['customer_id'], keep='first')\n",
    "offline_customer"
   ]
  },
  {
   "cell_type": "markdown",
   "metadata": {},
   "source": [
    "Agora irei realizar o mesmo passo de unir os dataframes e verificar a diferença."
   ]
  },
  {
   "cell_type": "code",
   "execution_count": 46,
   "metadata": {},
   "outputs": [
    {
     "data": {
      "text/html": [
       "<div>\n",
       "<style scoped>\n",
       "    .dataframe tbody tr th:only-of-type {\n",
       "        vertical-align: middle;\n",
       "    }\n",
       "\n",
       "    .dataframe tbody tr th {\n",
       "        vertical-align: top;\n",
       "    }\n",
       "\n",
       "    .dataframe thead th {\n",
       "        text-align: right;\n",
       "    }\n",
       "</style>\n",
       "<table border=\"1\" class=\"dataframe\">\n",
       "  <thead>\n",
       "    <tr style=\"text-align: right;\">\n",
       "      <th></th>\n",
       "      <th>customer_id</th>\n",
       "      <th>_merge</th>\n",
       "    </tr>\n",
       "  </thead>\n",
       "  <tbody>\n",
       "    <tr>\n",
       "      <td>0</td>\n",
       "      <td>3.334316e+19</td>\n",
       "      <td>left_only</td>\n",
       "    </tr>\n",
       "    <tr>\n",
       "      <td>1</td>\n",
       "      <td>3.165624e+19</td>\n",
       "      <td>left_only</td>\n",
       "    </tr>\n",
       "    <tr>\n",
       "      <td>2</td>\n",
       "      <td>6.630394e+19</td>\n",
       "      <td>left_only</td>\n",
       "    </tr>\n",
       "    <tr>\n",
       "      <td>3</td>\n",
       "      <td>3.061374e+19</td>\n",
       "      <td>left_only</td>\n",
       "    </tr>\n",
       "    <tr>\n",
       "      <td>4</td>\n",
       "      <td>6.433353e+19</td>\n",
       "      <td>left_only</td>\n",
       "    </tr>\n",
       "    <tr>\n",
       "      <td>...</td>\n",
       "      <td>...</td>\n",
       "      <td>...</td>\n",
       "    </tr>\n",
       "    <tr>\n",
       "      <td>12144</td>\n",
       "      <td>6.633613e+19</td>\n",
       "      <td>right_only</td>\n",
       "    </tr>\n",
       "    <tr>\n",
       "      <td>12145</td>\n",
       "      <td>3.064644e+19</td>\n",
       "      <td>right_only</td>\n",
       "    </tr>\n",
       "    <tr>\n",
       "      <td>12146</td>\n",
       "      <td>3.763626e+19</td>\n",
       "      <td>right_only</td>\n",
       "    </tr>\n",
       "    <tr>\n",
       "      <td>12147</td>\n",
       "      <td>6.439626e+19</td>\n",
       "      <td>right_only</td>\n",
       "    </tr>\n",
       "    <tr>\n",
       "      <td>12148</td>\n",
       "      <td>6.632647e+19</td>\n",
       "      <td>right_only</td>\n",
       "    </tr>\n",
       "  </tbody>\n",
       "</table>\n",
       "<p>12149 rows × 2 columns</p>\n",
       "</div>"
      ],
      "text/plain": [
       "        customer_id      _merge\n",
       "0      3.334316e+19   left_only\n",
       "1      3.165624e+19   left_only\n",
       "2      6.630394e+19   left_only\n",
       "3      3.061374e+19   left_only\n",
       "4      6.433353e+19   left_only\n",
       "...             ...         ...\n",
       "12144  6.633613e+19  right_only\n",
       "12145  3.064644e+19  right_only\n",
       "12146  3.763626e+19  right_only\n",
       "12147  6.439626e+19  right_only\n",
       "12148  6.632647e+19  right_only\n",
       "\n",
       "[12149 rows x 2 columns]"
      ]
     },
     "execution_count": 46,
     "metadata": {},
     "output_type": "execute_result"
    }
   ],
   "source": [
    "dif = pd.merge(dif_pageview_order, offline_customer, on='customer_id', how='outer', indicator=True)\n",
    "dif"
   ]
  },
  {
   "cell_type": "code",
   "execution_count": 47,
   "metadata": {},
   "outputs": [
    {
     "data": {
      "text/plain": [
       "right_only    9766\n",
       "left_only     2248\n",
       "both           135\n",
       "Name: _merge, dtype: int64"
      ]
     },
     "execution_count": 47,
     "metadata": {},
     "output_type": "execute_result"
    }
   ],
   "source": [
    "dif['_merge'].value_counts()"
   ]
  },
  {
   "cell_type": "markdown",
   "metadata": {},
   "source": [
    "Calculando a porcentagem de consumidores que viram online e compraram na física."
   ]
  },
  {
   "cell_type": "code",
   "execution_count": 48,
   "metadata": {},
   "outputs": [
    {
     "name": "stdout",
     "output_type": "stream",
     "text": [
      "1.1112025681126019\n"
     ]
    }
   ],
   "source": [
    "porc_both = 135 / (9766 + 2248 +135) * 100\n",
    "print(porc_both)"
   ]
  },
  {
   "cell_type": "markdown",
   "metadata": {},
   "source": [
    "1.11% dos consumidores visitaram online e compraram na loja física. Ou seja, não é comum ver online e comprar na loja física."
   ]
  },
  {
   "cell_type": "markdown",
   "metadata": {},
   "source": [
    "Filtrando apenas por “pageType” = cart e deltando colunas desnecessárias."
   ]
  },
  {
   "cell_type": "code",
   "execution_count": 49,
   "metadata": {},
   "outputs": [
    {
     "data": {
      "text/html": [
       "<div>\n",
       "<style scoped>\n",
       "    .dataframe tbody tr th:only-of-type {\n",
       "        vertical-align: middle;\n",
       "    }\n",
       "\n",
       "    .dataframe tbody tr th {\n",
       "        vertical-align: top;\n",
       "    }\n",
       "\n",
       "    .dataframe thead th {\n",
       "        text-align: right;\n",
       "    }\n",
       "</style>\n",
       "<table border=\"1\" class=\"dataframe\">\n",
       "  <thead>\n",
       "    <tr style=\"text-align: right;\">\n",
       "      <th></th>\n",
       "      <th>customer_id</th>\n",
       "    </tr>\n",
       "  </thead>\n",
       "  <tbody>\n",
       "    <tr>\n",
       "      <td>268</td>\n",
       "      <td>3.765363e+19</td>\n",
       "    </tr>\n",
       "    <tr>\n",
       "      <td>2494</td>\n",
       "      <td>3.430616e+19</td>\n",
       "    </tr>\n",
       "    <tr>\n",
       "      <td>2574</td>\n",
       "      <td>3.762653e+19</td>\n",
       "    </tr>\n",
       "    <tr>\n",
       "      <td>3470</td>\n",
       "      <td>3.135616e+19</td>\n",
       "    </tr>\n",
       "    <tr>\n",
       "      <td>8293</td>\n",
       "      <td>3.730394e+19</td>\n",
       "    </tr>\n",
       "    <tr>\n",
       "      <td>...</td>\n",
       "      <td>...</td>\n",
       "    </tr>\n",
       "    <tr>\n",
       "      <td>3442766</td>\n",
       "      <td>3.439373e+19</td>\n",
       "    </tr>\n",
       "    <tr>\n",
       "      <td>3443178</td>\n",
       "      <td>3.836333e+19</td>\n",
       "    </tr>\n",
       "    <tr>\n",
       "      <td>3443792</td>\n",
       "      <td>6.436653e+19</td>\n",
       "    </tr>\n",
       "    <tr>\n",
       "      <td>3444571</td>\n",
       "      <td>6.430624e+19</td>\n",
       "    </tr>\n",
       "    <tr>\n",
       "      <td>3446845</td>\n",
       "      <td>3.938383e+19</td>\n",
       "    </tr>\n",
       "  </tbody>\n",
       "</table>\n",
       "<p>1097 rows × 1 columns</p>\n",
       "</div>"
      ],
      "text/plain": [
       "          customer_id\n",
       "268      3.765363e+19\n",
       "2494     3.430616e+19\n",
       "2574     3.762653e+19\n",
       "3470     3.135616e+19\n",
       "8293     3.730394e+19\n",
       "...               ...\n",
       "3442766  3.439373e+19\n",
       "3443178  3.836333e+19\n",
       "3443792  6.436653e+19\n",
       "3444571  6.430624e+19\n",
       "3446845  3.938383e+19\n",
       "\n",
       "[1097 rows x 1 columns]"
      ]
     },
     "execution_count": 49,
     "metadata": {},
     "output_type": "execute_result"
    }
   ],
   "source": [
    "pageviews_cartid = onlinepageviews_copy.drop([\"visitor_id\", \"deviceType\", \"category_id\", \"on_product_id\", \"date\"], axis=1)\n",
    "pageviews_cartid = pageviews_cartid.dropna()\n",
    "pageviews_cartid = pageviews_cartid[(pageviews_cartid['pageType'] == 'cart')]\n",
    "pageviews_cartid = pageviews_cartid.drop([\"pageType\"], axis=1)\n",
    "pageviews_cartid = pageviews_cartid.drop_duplicates(subset=['customer_id'], keep='first')\n",
    "pageviews_cartid"
   ]
  },
  {
   "cell_type": "code",
   "execution_count": 50,
   "metadata": {},
   "outputs": [
    {
     "data": {
      "text/html": [
       "<div>\n",
       "<style scoped>\n",
       "    .dataframe tbody tr th:only-of-type {\n",
       "        vertical-align: middle;\n",
       "    }\n",
       "\n",
       "    .dataframe tbody tr th {\n",
       "        vertical-align: top;\n",
       "    }\n",
       "\n",
       "    .dataframe thead th {\n",
       "        text-align: right;\n",
       "    }\n",
       "</style>\n",
       "<table border=\"1\" class=\"dataframe\">\n",
       "  <thead>\n",
       "    <tr style=\"text-align: right;\">\n",
       "      <th></th>\n",
       "      <th>customer_id</th>\n",
       "    </tr>\n",
       "  </thead>\n",
       "  <tbody>\n",
       "    <tr>\n",
       "      <td>1</td>\n",
       "      <td>6.339334e+19</td>\n",
       "    </tr>\n",
       "    <tr>\n",
       "      <td>2</td>\n",
       "      <td>3.765363e+19</td>\n",
       "    </tr>\n",
       "    <tr>\n",
       "      <td>3</td>\n",
       "      <td>6.533383e+19</td>\n",
       "    </tr>\n",
       "    <tr>\n",
       "      <td>7</td>\n",
       "      <td>6.130616e+19</td>\n",
       "    </tr>\n",
       "    <tr>\n",
       "      <td>8</td>\n",
       "      <td>6.263327e+19</td>\n",
       "    </tr>\n",
       "    <tr>\n",
       "      <td>...</td>\n",
       "      <td>...</td>\n",
       "    </tr>\n",
       "    <tr>\n",
       "      <td>12226</td>\n",
       "      <td>3.631393e+19</td>\n",
       "    </tr>\n",
       "    <tr>\n",
       "      <td>12227</td>\n",
       "      <td>3.164334e+19</td>\n",
       "    </tr>\n",
       "    <tr>\n",
       "      <td>12228</td>\n",
       "      <td>3.238396e+19</td>\n",
       "    </tr>\n",
       "    <tr>\n",
       "      <td>12232</td>\n",
       "      <td>3.639383e+19</td>\n",
       "    </tr>\n",
       "    <tr>\n",
       "      <td>12236</td>\n",
       "      <td>6.436654e+19</td>\n",
       "    </tr>\n",
       "  </tbody>\n",
       "</table>\n",
       "<p>3530 rows × 1 columns</p>\n",
       "</div>"
      ],
      "text/plain": [
       "        customer_id\n",
       "1      6.339334e+19\n",
       "2      3.765363e+19\n",
       "3      6.533383e+19\n",
       "7      6.130616e+19\n",
       "8      6.263327e+19\n",
       "...             ...\n",
       "12226  3.631393e+19\n",
       "12227  3.164334e+19\n",
       "12228  3.238396e+19\n",
       "12232  3.639383e+19\n",
       "12236  6.436654e+19\n",
       "\n",
       "[3530 rows x 1 columns]"
      ]
     },
     "execution_count": 50,
     "metadata": {},
     "output_type": "execute_result"
    }
   ],
   "source": [
    "online_id = onlineorders_copy.drop([\"date\", \"visitor_id\", \"deviceType\", \"order_id\", \"on_product_id\", \"quantity\", \"price\", \"total\"], axis=1)\n",
    "online_id = online_id.dropna()\n",
    "online_id = online_id.drop_duplicates(subset=['customer_id'], keep='first')\n",
    "online_id"
   ]
  },
  {
   "cell_type": "markdown",
   "metadata": {},
   "source": [
    "Agora farei um merge nos dataframes para verificar se um está dentro do outro."
   ]
  },
  {
   "cell_type": "code",
   "execution_count": 51,
   "metadata": {},
   "outputs": [
    {
     "data": {
      "text/html": [
       "<div>\n",
       "<style scoped>\n",
       "    .dataframe tbody tr th:only-of-type {\n",
       "        vertical-align: middle;\n",
       "    }\n",
       "\n",
       "    .dataframe tbody tr th {\n",
       "        vertical-align: top;\n",
       "    }\n",
       "\n",
       "    .dataframe thead th {\n",
       "        text-align: right;\n",
       "    }\n",
       "</style>\n",
       "<table border=\"1\" class=\"dataframe\">\n",
       "  <thead>\n",
       "    <tr style=\"text-align: right;\">\n",
       "      <th></th>\n",
       "      <th>customer_id</th>\n",
       "      <th>_merge</th>\n",
       "    </tr>\n",
       "  </thead>\n",
       "  <tbody>\n",
       "    <tr>\n",
       "      <td>0</td>\n",
       "      <td>3.765363e+19</td>\n",
       "      <td>both</td>\n",
       "    </tr>\n",
       "    <tr>\n",
       "      <td>1</td>\n",
       "      <td>3.430616e+19</td>\n",
       "      <td>both</td>\n",
       "    </tr>\n",
       "    <tr>\n",
       "      <td>2</td>\n",
       "      <td>3.762653e+19</td>\n",
       "      <td>left_only</td>\n",
       "    </tr>\n",
       "    <tr>\n",
       "      <td>3</td>\n",
       "      <td>3.135616e+19</td>\n",
       "      <td>both</td>\n",
       "    </tr>\n",
       "    <tr>\n",
       "      <td>4</td>\n",
       "      <td>3.730394e+19</td>\n",
       "      <td>both</td>\n",
       "    </tr>\n",
       "    <tr>\n",
       "      <td>...</td>\n",
       "      <td>...</td>\n",
       "      <td>...</td>\n",
       "    </tr>\n",
       "    <tr>\n",
       "      <td>3794</td>\n",
       "      <td>3.139314e+19</td>\n",
       "      <td>right_only</td>\n",
       "    </tr>\n",
       "    <tr>\n",
       "      <td>3795</td>\n",
       "      <td>6.162333e+19</td>\n",
       "      <td>right_only</td>\n",
       "    </tr>\n",
       "    <tr>\n",
       "      <td>3796</td>\n",
       "      <td>3.163394e+19</td>\n",
       "      <td>right_only</td>\n",
       "    </tr>\n",
       "    <tr>\n",
       "      <td>3797</td>\n",
       "      <td>3.164334e+19</td>\n",
       "      <td>right_only</td>\n",
       "    </tr>\n",
       "    <tr>\n",
       "      <td>3798</td>\n",
       "      <td>6.436654e+19</td>\n",
       "      <td>right_only</td>\n",
       "    </tr>\n",
       "  </tbody>\n",
       "</table>\n",
       "<p>3799 rows × 2 columns</p>\n",
       "</div>"
      ],
      "text/plain": [
       "       customer_id      _merge\n",
       "0     3.765363e+19        both\n",
       "1     3.430616e+19        both\n",
       "2     3.762653e+19   left_only\n",
       "3     3.135616e+19        both\n",
       "4     3.730394e+19        both\n",
       "...            ...         ...\n",
       "3794  3.139314e+19  right_only\n",
       "3795  6.162333e+19  right_only\n",
       "3796  3.163394e+19  right_only\n",
       "3797  3.164334e+19  right_only\n",
       "3798  6.436654e+19  right_only\n",
       "\n",
       "[3799 rows x 2 columns]"
      ]
     },
     "execution_count": 51,
     "metadata": {},
     "output_type": "execute_result"
    }
   ],
   "source": [
    "only_idpageview = pd.merge(pageviews_cartid, online_id, on='customer_id', how='outer', indicator=True)\n",
    "only_idpageview"
   ]
  },
  {
   "cell_type": "code",
   "execution_count": 52,
   "metadata": {},
   "outputs": [
    {
     "data": {
      "text/plain": [
       "right_only    2702\n",
       "both           828\n",
       "left_only      269\n",
       "Name: _merge, dtype: int64"
      ]
     },
     "execution_count": 52,
     "metadata": {},
     "output_type": "execute_result"
    }
   ],
   "source": [
    "only_idpageview['_merge'].value_counts()"
   ]
  },
  {
   "cell_type": "markdown",
   "metadata": {},
   "source": [
    "O \"left_only\" representa os customer_id presentes apenas no dataframe pageviews_cartid, ou seja, 269 consumidores nao concluíram a compra. Irei filtrar esse dataframe pegando só os left_only e depois verificando em quais product_id eles aparecem no dataframe original do pageviews."
   ]
  },
  {
   "cell_type": "code",
   "execution_count": 53,
   "metadata": {},
   "outputs": [],
   "source": [
    "only_idpageview = only_idpageview[(only_idpageview['_merge'] == 'left_only')]\n",
    "only_idpageview = only_idpageview.drop(['_merge'], axis=1)"
   ]
  },
  {
   "cell_type": "code",
   "execution_count": 54,
   "metadata": {},
   "outputs": [
    {
     "data": {
      "text/html": [
       "<div>\n",
       "<style scoped>\n",
       "    .dataframe tbody tr th:only-of-type {\n",
       "        vertical-align: middle;\n",
       "    }\n",
       "\n",
       "    .dataframe tbody tr th {\n",
       "        vertical-align: top;\n",
       "    }\n",
       "\n",
       "    .dataframe thead th {\n",
       "        text-align: right;\n",
       "    }\n",
       "</style>\n",
       "<table border=\"1\" class=\"dataframe\">\n",
       "  <thead>\n",
       "    <tr style=\"text-align: right;\">\n",
       "      <th></th>\n",
       "      <th>on_product_id</th>\n",
       "      <th>customer_id</th>\n",
       "    </tr>\n",
       "  </thead>\n",
       "  <tbody>\n",
       "    <tr>\n",
       "      <td>105</td>\n",
       "      <td>3.232393e+14</td>\n",
       "      <td>3.334316e+19</td>\n",
       "    </tr>\n",
       "    <tr>\n",
       "      <td>234</td>\n",
       "      <td>3.330304e+14</td>\n",
       "      <td>3.235393e+19</td>\n",
       "    </tr>\n",
       "    <tr>\n",
       "      <td>569</td>\n",
       "      <td>6.261364e+14</td>\n",
       "      <td>6.632364e+19</td>\n",
       "    </tr>\n",
       "    <tr>\n",
       "      <td>795</td>\n",
       "      <td>6.435303e+14</td>\n",
       "      <td>3.731354e+19</td>\n",
       "    </tr>\n",
       "    <tr>\n",
       "      <td>1319</td>\n",
       "      <td>3.638374e+14</td>\n",
       "      <td>3.561334e+19</td>\n",
       "    </tr>\n",
       "    <tr>\n",
       "      <td>...</td>\n",
       "      <td>...</td>\n",
       "      <td>...</td>\n",
       "    </tr>\n",
       "    <tr>\n",
       "      <td>3452305</td>\n",
       "      <td>3.362324e+14</td>\n",
       "      <td>3.033304e+19</td>\n",
       "    </tr>\n",
       "    <tr>\n",
       "      <td>3452373</td>\n",
       "      <td>3.065663e+14</td>\n",
       "      <td>3.166313e+19</td>\n",
       "    </tr>\n",
       "    <tr>\n",
       "      <td>3452390</td>\n",
       "      <td>3.865626e+14</td>\n",
       "      <td>3.034304e+19</td>\n",
       "    </tr>\n",
       "    <tr>\n",
       "      <td>3452420</td>\n",
       "      <td>3.066363e+14</td>\n",
       "      <td>6.434314e+19</td>\n",
       "    </tr>\n",
       "    <tr>\n",
       "      <td>3452466</td>\n",
       "      <td>3.430333e+14</td>\n",
       "      <td>6.533327e+19</td>\n",
       "    </tr>\n",
       "  </tbody>\n",
       "</table>\n",
       "<p>21046 rows × 2 columns</p>\n",
       "</div>"
      ],
      "text/plain": [
       "         on_product_id   customer_id\n",
       "105       3.232393e+14  3.334316e+19\n",
       "234       3.330304e+14  3.235393e+19\n",
       "569       6.261364e+14  6.632364e+19\n",
       "795       6.435303e+14  3.731354e+19\n",
       "1319      3.638374e+14  3.561334e+19\n",
       "...                ...           ...\n",
       "3452305   3.362324e+14  3.033304e+19\n",
       "3452373   3.065663e+14  3.166313e+19\n",
       "3452390   3.865626e+14  3.034304e+19\n",
       "3452420   3.066363e+14  6.434314e+19\n",
       "3452466   3.430333e+14  6.533327e+19\n",
       "\n",
       "[21046 rows x 2 columns]"
      ]
     },
     "execution_count": 54,
     "metadata": {},
     "output_type": "execute_result"
    }
   ],
   "source": [
    "pv_product_customerid = onlinepageviews_copy.drop([\"visitor_id\", \"deviceType\", \"category_id\", \"date\"], axis=1)\n",
    "pv_product_customerid = pv_product_customerid.dropna()\n",
    "pv_product_customerid = pv_product_customerid[(pv_product_customerid['pageType'] == 'product')]\n",
    "pv_product_customerid = pv_product_customerid.drop([\"pageType\"], axis=1)\n",
    "pv_product_customerid"
   ]
  },
  {
   "cell_type": "code",
   "execution_count": 55,
   "metadata": {},
   "outputs": [],
   "source": [
    "only_productwithcust = pd.merge(pv_product_customerid, only_idpageview, on='customer_id', how='outer', indicator=True)"
   ]
  },
  {
   "cell_type": "code",
   "execution_count": 56,
   "metadata": {},
   "outputs": [
    {
     "data": {
      "text/html": [
       "<div>\n",
       "<style scoped>\n",
       "    .dataframe tbody tr th:only-of-type {\n",
       "        vertical-align: middle;\n",
       "    }\n",
       "\n",
       "    .dataframe tbody tr th {\n",
       "        vertical-align: top;\n",
       "    }\n",
       "\n",
       "    .dataframe thead th {\n",
       "        text-align: right;\n",
       "    }\n",
       "</style>\n",
       "<table border=\"1\" class=\"dataframe\">\n",
       "  <thead>\n",
       "    <tr style=\"text-align: right;\">\n",
       "      <th></th>\n",
       "      <th>on_product_id</th>\n",
       "      <th>customer_id</th>\n",
       "      <th>_merge</th>\n",
       "    </tr>\n",
       "  </thead>\n",
       "  <tbody>\n",
       "    <tr>\n",
       "      <td>0</td>\n",
       "      <td>3.232393e+14</td>\n",
       "      <td>3.334316e+19</td>\n",
       "      <td>left_only</td>\n",
       "    </tr>\n",
       "    <tr>\n",
       "      <td>1</td>\n",
       "      <td>3.363643e+14</td>\n",
       "      <td>3.334316e+19</td>\n",
       "      <td>left_only</td>\n",
       "    </tr>\n",
       "    <tr>\n",
       "      <td>2</td>\n",
       "      <td>3.035334e+14</td>\n",
       "      <td>3.334316e+19</td>\n",
       "      <td>left_only</td>\n",
       "    </tr>\n",
       "    <tr>\n",
       "      <td>3</td>\n",
       "      <td>3.666347e+14</td>\n",
       "      <td>3.334316e+19</td>\n",
       "      <td>left_only</td>\n",
       "    </tr>\n",
       "    <tr>\n",
       "      <td>4</td>\n",
       "      <td>3.035334e+14</td>\n",
       "      <td>3.334316e+19</td>\n",
       "      <td>left_only</td>\n",
       "    </tr>\n",
       "    <tr>\n",
       "      <td>...</td>\n",
       "      <td>...</td>\n",
       "      <td>...</td>\n",
       "      <td>...</td>\n",
       "    </tr>\n",
       "    <tr>\n",
       "      <td>21097</td>\n",
       "      <td>NaN</td>\n",
       "      <td>6.133343e+19</td>\n",
       "      <td>right_only</td>\n",
       "    </tr>\n",
       "    <tr>\n",
       "      <td>21098</td>\n",
       "      <td>NaN</td>\n",
       "      <td>6.234663e+19</td>\n",
       "      <td>right_only</td>\n",
       "    </tr>\n",
       "    <tr>\n",
       "      <td>21099</td>\n",
       "      <td>NaN</td>\n",
       "      <td>3.666343e+19</td>\n",
       "      <td>right_only</td>\n",
       "    </tr>\n",
       "    <tr>\n",
       "      <td>21100</td>\n",
       "      <td>NaN</td>\n",
       "      <td>6.539634e+19</td>\n",
       "      <td>right_only</td>\n",
       "    </tr>\n",
       "    <tr>\n",
       "      <td>21101</td>\n",
       "      <td>NaN</td>\n",
       "      <td>3.937657e+19</td>\n",
       "      <td>right_only</td>\n",
       "    </tr>\n",
       "  </tbody>\n",
       "</table>\n",
       "<p>21102 rows × 3 columns</p>\n",
       "</div>"
      ],
      "text/plain": [
       "       on_product_id   customer_id      _merge\n",
       "0       3.232393e+14  3.334316e+19   left_only\n",
       "1       3.363643e+14  3.334316e+19   left_only\n",
       "2       3.035334e+14  3.334316e+19   left_only\n",
       "3       3.666347e+14  3.334316e+19   left_only\n",
       "4       3.035334e+14  3.334316e+19   left_only\n",
       "...              ...           ...         ...\n",
       "21097            NaN  6.133343e+19  right_only\n",
       "21098            NaN  6.234663e+19  right_only\n",
       "21099            NaN  3.666343e+19  right_only\n",
       "21100            NaN  6.539634e+19  right_only\n",
       "21101            NaN  3.937657e+19  right_only\n",
       "\n",
       "[21102 rows x 3 columns]"
      ]
     },
     "execution_count": 56,
     "metadata": {},
     "output_type": "execute_result"
    }
   ],
   "source": [
    "only_productwithcust"
   ]
  },
  {
   "cell_type": "code",
   "execution_count": 57,
   "metadata": {},
   "outputs": [
    {
     "data": {
      "text/plain": [
       "left_only     18522\n",
       "both           2524\n",
       "right_only       56\n",
       "Name: _merge, dtype: int64"
      ]
     },
     "execution_count": 57,
     "metadata": {},
     "output_type": "execute_result"
    }
   ],
   "source": [
    "only_productwithcust['_merge'].value_counts()"
   ]
  },
  {
   "cell_type": "code",
   "execution_count": 58,
   "metadata": {},
   "outputs": [
    {
     "data": {
      "text/html": [
       "<div>\n",
       "<style scoped>\n",
       "    .dataframe tbody tr th:only-of-type {\n",
       "        vertical-align: middle;\n",
       "    }\n",
       "\n",
       "    .dataframe tbody tr th {\n",
       "        vertical-align: top;\n",
       "    }\n",
       "\n",
       "    .dataframe thead th {\n",
       "        text-align: right;\n",
       "    }\n",
       "</style>\n",
       "<table border=\"1\" class=\"dataframe\">\n",
       "  <thead>\n",
       "    <tr style=\"text-align: right;\">\n",
       "      <th></th>\n",
       "      <th>on_product_id</th>\n",
       "      <th>customer_id</th>\n",
       "    </tr>\n",
       "  </thead>\n",
       "  <tbody>\n",
       "    <tr>\n",
       "      <td>0</td>\n",
       "      <td>3.232393e+14</td>\n",
       "      <td>3.334316e+19</td>\n",
       "    </tr>\n",
       "    <tr>\n",
       "      <td>1</td>\n",
       "      <td>3.363643e+14</td>\n",
       "      <td>3.334316e+19</td>\n",
       "    </tr>\n",
       "    <tr>\n",
       "      <td>2</td>\n",
       "      <td>3.035334e+14</td>\n",
       "      <td>3.334316e+19</td>\n",
       "    </tr>\n",
       "    <tr>\n",
       "      <td>3</td>\n",
       "      <td>3.666347e+14</td>\n",
       "      <td>3.334316e+19</td>\n",
       "    </tr>\n",
       "    <tr>\n",
       "      <td>4</td>\n",
       "      <td>3.035334e+14</td>\n",
       "      <td>3.334316e+19</td>\n",
       "    </tr>\n",
       "    <tr>\n",
       "      <td>...</td>\n",
       "      <td>...</td>\n",
       "      <td>...</td>\n",
       "    </tr>\n",
       "    <tr>\n",
       "      <td>21039</td>\n",
       "      <td>3.330396e+14</td>\n",
       "      <td>3.261334e+19</td>\n",
       "    </tr>\n",
       "    <tr>\n",
       "      <td>21040</td>\n",
       "      <td>3.230624e+14</td>\n",
       "      <td>3.035357e+19</td>\n",
       "    </tr>\n",
       "    <tr>\n",
       "      <td>21042</td>\n",
       "      <td>3.938653e+14</td>\n",
       "      <td>3.662393e+19</td>\n",
       "    </tr>\n",
       "    <tr>\n",
       "      <td>21044</td>\n",
       "      <td>6.334663e+14</td>\n",
       "      <td>3.465643e+19</td>\n",
       "    </tr>\n",
       "    <tr>\n",
       "      <td>21045</td>\n",
       "      <td>3.865626e+14</td>\n",
       "      <td>3.034304e+19</td>\n",
       "    </tr>\n",
       "  </tbody>\n",
       "</table>\n",
       "<p>18522 rows × 2 columns</p>\n",
       "</div>"
      ],
      "text/plain": [
       "       on_product_id   customer_id\n",
       "0       3.232393e+14  3.334316e+19\n",
       "1       3.363643e+14  3.334316e+19\n",
       "2       3.035334e+14  3.334316e+19\n",
       "3       3.666347e+14  3.334316e+19\n",
       "4       3.035334e+14  3.334316e+19\n",
       "...              ...           ...\n",
       "21039   3.330396e+14  3.261334e+19\n",
       "21040   3.230624e+14  3.035357e+19\n",
       "21042   3.938653e+14  3.662393e+19\n",
       "21044   6.334663e+14  3.465643e+19\n",
       "21045   3.865626e+14  3.034304e+19\n",
       "\n",
       "[18522 rows x 2 columns]"
      ]
     },
     "execution_count": 58,
     "metadata": {},
     "output_type": "execute_result"
    }
   ],
   "source": [
    "only_productwithcust = only_productwithcust[(only_productwithcust['_merge'] == 'left_only')]\n",
    "only_productwithcust = only_productwithcust.drop(['_merge'], axis=1)\n",
    "only_productwithcust"
   ]
  },
  {
   "cell_type": "markdown",
   "metadata": {},
   "source": [
    "Agora vou deletar a coluna do customer_id por não precisar mais dela. Os próximos passos serão realizados para pegar o preço de cada \"on_product_id\" do dataframe only_productwithcust."
   ]
  },
  {
   "cell_type": "code",
   "execution_count": 59,
   "metadata": {},
   "outputs": [],
   "source": [
    "only_productwithcust = only_productwithcust.drop(['customer_id'], axis=1)"
   ]
  },
  {
   "cell_type": "markdown",
   "metadata": {},
   "source": [
    "Pegarei o dataframe de onlineorders e deixarei apenas as colunas únicas de on_product_id e price. Depois disso, concatenarei os preços entre os dataframes."
   ]
  },
  {
   "cell_type": "code",
   "execution_count": 60,
   "metadata": {},
   "outputs": [
    {
     "data": {
      "text/html": [
       "<div>\n",
       "<style scoped>\n",
       "    .dataframe tbody tr th:only-of-type {\n",
       "        vertical-align: middle;\n",
       "    }\n",
       "\n",
       "    .dataframe tbody tr th {\n",
       "        vertical-align: top;\n",
       "    }\n",
       "\n",
       "    .dataframe thead th {\n",
       "        text-align: right;\n",
       "    }\n",
       "</style>\n",
       "<table border=\"1\" class=\"dataframe\">\n",
       "  <thead>\n",
       "    <tr style=\"text-align: right;\">\n",
       "      <th></th>\n",
       "      <th>on_product_id</th>\n",
       "      <th>price</th>\n",
       "    </tr>\n",
       "  </thead>\n",
       "  <tbody>\n",
       "    <tr>\n",
       "      <td>0</td>\n",
       "      <td>323762666337343</td>\n",
       "      <td>839</td>\n",
       "    </tr>\n",
       "    <tr>\n",
       "      <td>1</td>\n",
       "      <td>313562333039323</td>\n",
       "      <td>629</td>\n",
       "    </tr>\n",
       "    <tr>\n",
       "      <td>2</td>\n",
       "      <td>383863346531623</td>\n",
       "      <td>219</td>\n",
       "    </tr>\n",
       "    <tr>\n",
       "      <td>3</td>\n",
       "      <td>666136386663626</td>\n",
       "      <td>239</td>\n",
       "    </tr>\n",
       "    <tr>\n",
       "      <td>4</td>\n",
       "      <td>626533383465323</td>\n",
       "      <td>69</td>\n",
       "    </tr>\n",
       "    <tr>\n",
       "      <td>...</td>\n",
       "      <td>...</td>\n",
       "      <td>...</td>\n",
       "    </tr>\n",
       "    <tr>\n",
       "      <td>12195</td>\n",
       "      <td>663661323436656</td>\n",
       "      <td>599</td>\n",
       "    </tr>\n",
       "    <tr>\n",
       "      <td>12197</td>\n",
       "      <td>643161333961346</td>\n",
       "      <td>599</td>\n",
       "    </tr>\n",
       "    <tr>\n",
       "      <td>12219</td>\n",
       "      <td>363833663437633</td>\n",
       "      <td>728</td>\n",
       "    </tr>\n",
       "    <tr>\n",
       "      <td>12221</td>\n",
       "      <td>343030356165303</td>\n",
       "      <td>299</td>\n",
       "    </tr>\n",
       "    <tr>\n",
       "      <td>12228</td>\n",
       "      <td>346235323537623</td>\n",
       "      <td>598</td>\n",
       "    </tr>\n",
       "  </tbody>\n",
       "</table>\n",
       "<p>2184 rows × 2 columns</p>\n",
       "</div>"
      ],
      "text/plain": [
       "         on_product_id  price\n",
       "0      323762666337343    839\n",
       "1      313562333039323    629\n",
       "2      383863346531623    219\n",
       "3      666136386663626    239\n",
       "4      626533383465323     69\n",
       "...                ...    ...\n",
       "12195  663661323436656    599\n",
       "12197  643161333961346    599\n",
       "12219  363833663437633    728\n",
       "12221  343030356165303    299\n",
       "12228  346235323537623    598\n",
       "\n",
       "[2184 rows x 2 columns]"
      ]
     },
     "execution_count": 60,
     "metadata": {},
     "output_type": "execute_result"
    }
   ],
   "source": [
    "order_productprice = onlineorders_copy.drop(['date', 'visitor_id', 'deviceType', 'order_id', 'quantity', 'customer_id', 'total'], axis=1)\n",
    "order_productprice = order_productprice.drop_duplicates(subset=['on_product_id'], keep='first')\n",
    "order_productprice"
   ]
  },
  {
   "cell_type": "code",
   "execution_count": 61,
   "metadata": {},
   "outputs": [],
   "source": [
    "only_productwithcust = only_productwithcust.join(order_productprice.set_index(\"on_product_id\").loc[:, [\"price\"]], on=\"on_product_id\")"
   ]
  },
  {
   "cell_type": "markdown",
   "metadata": {},
   "source": [
    "Com os preços para cada produtos, agora é só realizar a soma da coluna \"price\" e aplicar o desconto de 20% para verificar o possível faturamento da campanha."
   ]
  },
  {
   "cell_type": "code",
   "execution_count": 62,
   "metadata": {},
   "outputs": [
    {
     "name": "stdout",
     "output_type": "stream",
     "text": [
      "9813668.0\n",
      "7850934.4\n"
     ]
    }
   ],
   "source": [
    "faturamento_pageview = only_productwithcust['price'].sum()\n",
    "print(faturamento_pageview)\n",
    "faturamento_campanha = faturamento_pageview * 0.8\n",
    "print(faturamento_campanha)"
   ]
  },
  {
   "cell_type": "markdown",
   "metadata": {},
   "source": [
    "Gráfico comparativo com diferentes tipos de engajamento dos clientes com a campanha, caso 100%, 75%, 50% e 25% dos clientes comprassem os itens."
   ]
  },
  {
   "cell_type": "code",
   "execution_count": 63,
   "metadata": {},
   "outputs": [
    {
     "name": "stdout",
     "output_type": "stream",
     "text": [
      "5888200.800000001 3925467.2 1962733.6\n"
     ]
    }
   ],
   "source": [
    "fat75 = faturamento_campanha * 0.75\n",
    "fat50 = faturamento_campanha * 0.50\n",
    "fat25 = faturamento_campanha * 0.25\n",
    "print(fat75, fat50, fat25)"
   ]
  },
  {
   "cell_type": "code",
   "execution_count": 64,
   "metadata": {},
   "outputs": [
    {
     "data": {
      "image/png": "[encoded data removed]",
      "text/plain": [
       "<Figure size 432x288 with 1 Axes>"
      ]
     },
     "metadata": {
      "needs_background": "light"
     },
     "output_type": "display_data"
    }
   ],
   "source": [
    "porc_faturamento = [0, fat25, fat50, fat75, faturamento_campanha]\n",
    "engajamento = ['0%', '25%', '50%', '75%', '100%']\n",
    "plt.plot(engajamento, porc_faturamento, marker='o')\n",
    "plt.ylabel('Faturamento')\n",
    "plt.title('Faturamento por engajamento dos consumidores na campanha')\n",
    "plt.show()"
   ]
  },
  {
   "cell_type": "markdown",
   "metadata": {},
   "source": [
    "Como análise extra, será analisado qual foi a plataforma mais utilizada para compras online. Será utilizado valores únicos de order_id."
   ]
  },
  {
   "cell_type": "code",
   "execution_count": 65,
   "metadata": {},
   "outputs": [
    {
     "data": {
      "text/plain": [
       "mobile     4300\n",
       "desktop    2993\n",
       "Name: deviceType, dtype: int64"
      ]
     },
     "execution_count": 65,
     "metadata": {},
     "output_type": "execute_result"
    }
   ],
   "source": [
    "online_device = onlineorders_copy.drop_duplicates(subset=['order_id'], keep='first')\n",
    "online_device['deviceType'].value_counts()"
   ]
  },
  {
   "cell_type": "code",
   "execution_count": 66,
   "metadata": {},
   "outputs": [
    {
     "name": "stdout",
     "output_type": "stream",
     "text": [
      "7293\n",
      "58.96064719594132 41.03935280405869\n"
     ]
    }
   ],
   "source": [
    "totalorders = 4300 + 2993\n",
    "print(totalorders)\n",
    "porcmobile = 4300 / totalorders * 100\n",
    "porcdesktop = 2993 / totalorders * 100\n",
    "print(porcmobile, porcdesktop)"
   ]
  },
  {
   "cell_type": "markdown",
   "metadata": {},
   "source": [
    "As vendas mobile contabilizam 58.96% do total de vendas online. Em contrapartida, desktop é responsável por 41.04%."
   ]
  },
  {
   "cell_type": "markdown",
   "metadata": {},
   "source": [
    "Outra análise que será feita é qual estado vende mais e qual vende menos. Novamente, será contabilizado apenas sale_id único."
   ]
  },
  {
   "cell_type": "code",
   "execution_count": 67,
   "metadata": {},
   "outputs": [
    {
     "data": {
      "text/plain": [
       "RJ    4401\n",
       "SP    2980\n",
       "RS    2177\n",
       "PE    1715\n",
       "RN     794\n",
       "AM     776\n",
       "MA     573\n",
       "PI     491\n",
       "PR     405\n",
       "GO     158\n",
       "MS     149\n",
       "Name: state, dtype: int64"
      ]
     },
     "execution_count": 67,
     "metadata": {},
     "output_type": "execute_result"
    }
   ],
   "source": [
    "offline_state = offline_copy.drop_duplicates(subset=['sale_id'], keep='first')\n",
    "offline_state['state'].value_counts()"
   ]
  },
  {
   "cell_type": "markdown",
   "metadata": {},
   "source": [
    "O estado que mais vendeu é o RJ (4401), já o que menos vendeu foi MS (149)."
   ]
  },
  {
   "cell_type": "code",
   "execution_count": 68,
   "metadata": {},
   "outputs": [
    {
     "data": {
      "image/png": "[encoded data removed]",
      "text/plain": [
       "<Figure size 432x288 with 1 Axes>"
      ]
     },
     "metadata": {
      "needs_background": "light"
     },
     "output_type": "display_data"
    }
   ],
   "source": [
    "estados = [\"RJ\", \"SP\", \"RS\", \"PE\", \"RN\", \"AM\", \"MA\", \"PI\", \"PR\", \"GO\", \"MS\"]\n",
    "vendasoff = [4401, 2980, 2177, 1715, 794, 776, 573, 491, 405, 158, 149]\n",
    "\n",
    "plt.bar(estados, vendasoff, align='center')\n",
    "plt.xticks(estados)\n",
    "plt.ylabel('Vendas')\n",
    "plt.title('Vendas por estado')\n",
    "\n",
    "plt.show()"
   ]
  },
  {
   "cell_type": "markdown",
   "metadata": {},
   "source": [
    "Outra análise será quais dias da semana a loja offline mais vendeu."
   ]
  },
  {
   "cell_type": "code",
   "execution_count": 69,
   "metadata": {},
   "outputs": [
    {
     "data": {
      "text/plain": [
       "Friday       2999\n",
       "Saturday     2777\n",
       "Thursday     2518\n",
       "Wednesday    2180\n",
       "Tuesday      1695\n",
       "Monday       1307\n",
       "Sunday       1143\n",
       "Name: weekday, dtype: int64"
      ]
     },
     "execution_count": 69,
     "metadata": {},
     "output_type": "execute_result"
    }
   ],
   "source": [
    "offline_state['weekday'].value_counts()"
   ]
  },
  {
   "cell_type": "markdown",
   "metadata": {},
   "source": [
    "O dia com mais vendas é sexta (2999) e a com menos venda é domingo (1143)."
   ]
  },
  {
   "cell_type": "code",
   "execution_count": 70,
   "metadata": {},
   "outputs": [
    {
     "data": {
      "image/png": "[encoded data removed]",
      "text/plain": [
       "<Figure size 432x288 with 1 Axes>"
      ]
     },
     "metadata": {
      "needs_background": "light"
     },
     "output_type": "display_data"
    }
   ],
   "source": [
    "diasdasemana = [\"Sexta\", \"Sábado\", \"Quinta\", \"Quarta\", \"Terça\", \"Segunda\", \"Domingo\"]\n",
    "vendasdiasemana = [2999, 2777, 2518, 2180, 1695, 1307, 1143]\n",
    "\n",
    "plt.bar(diasdasemana, vendasdiasemana, align='center')\n",
    "plt.xticks(diasdasemana)\n",
    "plt.ylabel('Vendas')\n",
    "plt.title('Vendas por dia da semana')\n",
    "\n",
    "plt.show()"
   ]
  }
 ],
 "metadata": {
  "kernelspec": {
   "display_name": "Python 3",
   "language": "python",
   "name": "python3"
  },
  "language_info": {
   "codemirror_mode": {
    "name": "ipython",
    "version": 3
   },
   "file_extension": ".py",
   "mimetype": "text/x-python",
   "name": "python",
   "nbconvert_exporter": "python",
   "pygments_lexer": "ipython3",
   "version": "3.7.4"
  }
 },
 "nbformat": 4,
 "nbformat_minor": 2
}
